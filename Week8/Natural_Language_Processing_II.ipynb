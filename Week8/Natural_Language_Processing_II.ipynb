{
  "nbformat": 4,
  "nbformat_minor": 0,
  "metadata": {
    "colab": {
      "provenance": []
    },
    "kernelspec": {
      "name": "python3",
      "display_name": "Python 3"
    },
    "language_info": {
      "name": "python"
    }
  },
  "cells": [
    {
      "cell_type": "markdown",
      "source": [
        "## Natural Languange Process (NLP) II in Finance"
      ],
      "metadata": {
        "id": "Yq6KvntQJ_qY"
      }
    },
    {
      "cell_type": "markdown",
      "source": [
        "This notebook provides an example of Topic Modeling in finance."
      ],
      "metadata": {
        "id": "dk-ZB0lcKMMV"
      }
    },
    {
      "cell_type": "markdown",
      "source": [
        "#### NLP Packages\n",
        "\n",
        "* Gensim - an NLP toolkit for Python (see https://www.nltk.org)\n"
      ],
      "metadata": {
        "id": "AA59tG0gKWIT"
      }
    },
    {
      "cell_type": "code",
      "execution_count": 1,
      "metadata": {
        "id": "3l62zbwwJ2Zb"
      },
      "outputs": [],
      "source": [
        "import re\n",
        "import pandas as pd\n",
        "\n",
        "# NLP Toolkits\n",
        "import nltk\n",
        "import en_core_web_sm"
      ]
    },
    {
      "cell_type": "code",
      "source": [
        "nltk.download('stopwords')\n",
        "nltk.download('punkt')\n",
        "nltk.download('punkt_tab')\n",
        "\n",
        "from nltk.corpus import stopwords\n",
        "from nltk.tokenize import word_tokenize\n",
        "stop_words = set(stopwords.words('english'))\n",
        "\n",
        "nlp = en_core_web_sm.load()"
      ],
      "metadata": {
        "colab": {
          "base_uri": "https://localhost:8080/"
        },
        "id": "Wkbi5GX6p1tH",
        "outputId": "dbfb935d-64d2-411d-a20a-a776bf979993"
      },
      "execution_count": 2,
      "outputs": [
        {
          "output_type": "stream",
          "name": "stderr",
          "text": [
            "[nltk_data] Downloading package stopwords to /root/nltk_data...\n",
            "[nltk_data]   Package stopwords is already up-to-date!\n",
            "[nltk_data] Downloading package punkt to /root/nltk_data...\n",
            "[nltk_data]   Package punkt is already up-to-date!\n",
            "[nltk_data] Downloading package punkt_tab to /root/nltk_data...\n",
            "[nltk_data]   Package punkt_tab is already up-to-date!\n"
          ]
        }
      ]
    },
    {
      "cell_type": "code",
      "source": [
        "!pip install numpy==1.26.4\n",
        "!pip install pandas==1.5.3"
      ],
      "metadata": {
        "colab": {
          "base_uri": "https://localhost:8080/",
          "height": 524
        },
        "id": "qxLwmxDvvIsY",
        "outputId": "49c77550-9354-444d-e4ec-fe022ea2d5f0"
      },
      "execution_count": 4,
      "outputs": [
        {
          "output_type": "stream",
          "name": "stdout",
          "text": [
            "Requirement already satisfied: numpy==1.26.4 in /usr/local/lib/python3.11/dist-packages (1.26.4)\n",
            "Collecting pandas==1.5.3\n",
            "  Downloading pandas-1.5.3-cp311-cp311-manylinux_2_17_x86_64.manylinux2014_x86_64.whl.metadata (11 kB)\n",
            "Requirement already satisfied: python-dateutil>=2.8.1 in /usr/local/lib/python3.11/dist-packages (from pandas==1.5.3) (2.9.0.post0)\n",
            "Requirement already satisfied: pytz>=2020.1 in /usr/local/lib/python3.11/dist-packages (from pandas==1.5.3) (2025.2)\n",
            "Requirement already satisfied: numpy>=1.21.0 in /usr/local/lib/python3.11/dist-packages (from pandas==1.5.3) (1.26.4)\n",
            "Requirement already satisfied: six>=1.5 in /usr/local/lib/python3.11/dist-packages (from python-dateutil>=2.8.1->pandas==1.5.3) (1.17.0)\n",
            "Downloading pandas-1.5.3-cp311-cp311-manylinux_2_17_x86_64.manylinux2014_x86_64.whl (12.0 MB)\n",
            "\u001b[2K   \u001b[90m━━━━━━━━━━━━━━━━━━━━━━━━━━━━━━━━━━━━━━━━\u001b[0m \u001b[32m12.0/12.0 MB\u001b[0m \u001b[31m62.4 MB/s\u001b[0m eta \u001b[36m0:00:00\u001b[0m\n",
            "\u001b[?25hInstalling collected packages: pandas\n",
            "  Attempting uninstall: pandas\n",
            "    Found existing installation: pandas 2.2.2\n",
            "    Uninstalling pandas-2.2.2:\n",
            "      Successfully uninstalled pandas-2.2.2\n",
            "\u001b[31mERROR: pip's dependency resolver does not currently take into account all the packages that are installed. This behaviour is the source of the following dependency conflicts.\n",
            "google-colab 1.0.0 requires pandas==2.2.2, but you have pandas 1.5.3 which is incompatible.\n",
            "plotnine 0.14.5 requires pandas>=2.2.0, but you have pandas 1.5.3 which is incompatible.\n",
            "cudf-cu12 25.2.1 requires pandas<2.2.4dev0,>=2.0, but you have pandas 1.5.3 which is incompatible.\n",
            "mizani 0.13.3 requires pandas>=2.2.0, but you have pandas 1.5.3 which is incompatible.\n",
            "dask-cudf-cu12 25.2.2 requires pandas<2.2.4dev0,>=2.0, but you have pandas 1.5.3 which is incompatible.\n",
            "dask-expr 1.1.21 requires pandas>=2, but you have pandas 1.5.3 which is incompatible.\n",
            "xarray 2025.3.1 requires pandas>=2.1, but you have pandas 1.5.3 which is incompatible.\u001b[0m\u001b[31m\n",
            "\u001b[0mSuccessfully installed pandas-1.5.3\n"
          ]
        },
        {
          "output_type": "display_data",
          "data": {
            "application/vnd.colab-display-data+json": {
              "pip_warning": {
                "packages": [
                  "pandas"
                ]
              },
              "id": "09373b184b5f40888baeb1b8278adb8d"
            }
          },
          "metadata": {}
        }
      ]
    },
    {
      "cell_type": "code",
      "source": [
        "!pip install gensim"
      ],
      "metadata": {
        "colab": {
          "base_uri": "https://localhost:8080/"
        },
        "id": "DQagq4z6sRYb",
        "outputId": "be411817-bc9e-4adf-cb65-f84da88b92f3"
      },
      "execution_count": 5,
      "outputs": [
        {
          "output_type": "stream",
          "name": "stdout",
          "text": [
            "Requirement already satisfied: gensim in /usr/local/lib/python3.11/dist-packages (4.3.3)\n",
            "Requirement already satisfied: numpy<2.0,>=1.18.5 in /usr/local/lib/python3.11/dist-packages (from gensim) (1.26.4)\n",
            "Requirement already satisfied: scipy<1.14.0,>=1.7.0 in /usr/local/lib/python3.11/dist-packages (from gensim) (1.13.1)\n",
            "Requirement already satisfied: smart-open>=1.8.1 in /usr/local/lib/python3.11/dist-packages (from gensim) (7.1.0)\n",
            "Requirement already satisfied: wrapt in /usr/local/lib/python3.11/dist-packages (from smart-open>=1.8.1->gensim) (1.17.2)\n"
          ]
        }
      ]
    },
    {
      "cell_type": "code",
      "source": [
        "from gensim import corpora, models\n",
        "from gensim.utils import simple_preprocess"
      ],
      "metadata": {
        "id": "fyWRjbSjqDTg"
      },
      "execution_count": 7,
      "outputs": []
    },
    {
      "cell_type": "markdown",
      "source": [
        "#### Text Data\n",
        "\n",
        "We'll upload:\n",
        "* **The Financial Phrase Bank** (Malo et al., 2014): This dataset comprises business phrases that have been annotated with sentiment scores. You can download this dataset from the Hugging Face datasets repository:\n",
        "\n",
        "\n",
        "> https://huggingface.co/datasets/financial_phrasebank/tree/main/data"
      ],
      "metadata": {
        "id": "0bMyKV96L0S5"
      }
    },
    {
      "cell_type": "code",
      "source": [
        "df_phrases = pd.read_csv('Sentences_AllAgree.txt', delimiter='@', encoding='latin-1', on_bad_lines='skip', names=['Phrase', 'Sentiment'])\n",
        "df_phrases.head()"
      ],
      "metadata": {
        "colab": {
          "base_uri": "https://localhost:8080/",
          "height": 292
        },
        "id": "MxuaslXTMAQT",
        "outputId": "143d8f52-41d5-45dc-e6f7-4e67d53a6f15"
      },
      "execution_count": 8,
      "outputs": [
        {
          "output_type": "stream",
          "name": "stderr",
          "text": [
            "/usr/local/lib/python3.11/dist-packages/google/colab/_interactive_table_hint_button.py:178: FutureWarning: Index.format is deprecated and will be removed in a future version. Convert using index.astype(str) or index.map(formatter) instead.\n",
            "  df_html=dataframe._repr_html_(),  # pylint: disable=protected-access\n",
            "/usr/local/lib/python3.11/dist-packages/google/colab/_interactive_table_hint_button.py:178: FutureWarning: RangeIndex.format is deprecated and will be removed in a future version. Convert using index.astype(str) or index.map(formatter) instead.\n",
            "  df_html=dataframe._repr_html_(),  # pylint: disable=protected-access\n"
          ]
        },
        {
          "output_type": "execute_result",
          "data": {
            "text/plain": [
              "                                              Phrase Sentiment\n",
              "0  According to Gran , the company has no plans t...   neutral\n",
              "1  For the last quarter of 2010 , Componenta 's n...  positive\n",
              "2  In the third quarter of 2010 , net sales incre...  positive\n",
              "3  Operating profit rose to EUR 13.1 mn from EUR ...  positive\n",
              "4  Operating profit totalled EUR 21.1 mn , up fro...  positive"
            ],
            "text/html": [
              "\n",
              "  <div id=\"df-965b1145-9477-4618-b58a-8a68d335c4d9\" class=\"colab-df-container\">\n",
              "    <div>\n",
              "<style scoped>\n",
              "    .dataframe tbody tr th:only-of-type {\n",
              "        vertical-align: middle;\n",
              "    }\n",
              "\n",
              "    .dataframe tbody tr th {\n",
              "        vertical-align: top;\n",
              "    }\n",
              "\n",
              "    .dataframe thead th {\n",
              "        text-align: right;\n",
              "    }\n",
              "</style>\n",
              "<table border=\"1\" class=\"dataframe\">\n",
              "  <thead>\n",
              "    <tr style=\"text-align: right;\">\n",
              "      <th></th>\n",
              "      <th>Phrase</th>\n",
              "      <th>Sentiment</th>\n",
              "    </tr>\n",
              "  </thead>\n",
              "  <tbody>\n",
              "    <tr>\n",
              "      <th>0</th>\n",
              "      <td>According to Gran , the company has no plans t...</td>\n",
              "      <td>neutral</td>\n",
              "    </tr>\n",
              "    <tr>\n",
              "      <th>1</th>\n",
              "      <td>For the last quarter of 2010 , Componenta 's n...</td>\n",
              "      <td>positive</td>\n",
              "    </tr>\n",
              "    <tr>\n",
              "      <th>2</th>\n",
              "      <td>In the third quarter of 2010 , net sales incre...</td>\n",
              "      <td>positive</td>\n",
              "    </tr>\n",
              "    <tr>\n",
              "      <th>3</th>\n",
              "      <td>Operating profit rose to EUR 13.1 mn from EUR ...</td>\n",
              "      <td>positive</td>\n",
              "    </tr>\n",
              "    <tr>\n",
              "      <th>4</th>\n",
              "      <td>Operating profit totalled EUR 21.1 mn , up fro...</td>\n",
              "      <td>positive</td>\n",
              "    </tr>\n",
              "  </tbody>\n",
              "</table>\n",
              "</div>\n",
              "    <div class=\"colab-df-buttons\">\n",
              "\n",
              "  <div class=\"colab-df-container\">\n",
              "    <button class=\"colab-df-convert\" onclick=\"convertToInteractive('df-965b1145-9477-4618-b58a-8a68d335c4d9')\"\n",
              "            title=\"Convert this dataframe to an interactive table.\"\n",
              "            style=\"display:none;\">\n",
              "\n",
              "  <svg xmlns=\"http://www.w3.org/2000/svg\" height=\"24px\" viewBox=\"0 -960 960 960\">\n",
              "    <path d=\"M120-120v-720h720v720H120Zm60-500h600v-160H180v160Zm220 220h160v-160H400v160Zm0 220h160v-160H400v160ZM180-400h160v-160H180v160Zm440 0h160v-160H620v160ZM180-180h160v-160H180v160Zm440 0h160v-160H620v160Z\"/>\n",
              "  </svg>\n",
              "    </button>\n",
              "\n",
              "  <style>\n",
              "    .colab-df-container {\n",
              "      display:flex;\n",
              "      gap: 12px;\n",
              "    }\n",
              "\n",
              "    .colab-df-convert {\n",
              "      background-color: #E8F0FE;\n",
              "      border: none;\n",
              "      border-radius: 50%;\n",
              "      cursor: pointer;\n",
              "      display: none;\n",
              "      fill: #1967D2;\n",
              "      height: 32px;\n",
              "      padding: 0 0 0 0;\n",
              "      width: 32px;\n",
              "    }\n",
              "\n",
              "    .colab-df-convert:hover {\n",
              "      background-color: #E2EBFA;\n",
              "      box-shadow: 0px 1px 2px rgba(60, 64, 67, 0.3), 0px 1px 3px 1px rgba(60, 64, 67, 0.15);\n",
              "      fill: #174EA6;\n",
              "    }\n",
              "\n",
              "    .colab-df-buttons div {\n",
              "      margin-bottom: 4px;\n",
              "    }\n",
              "\n",
              "    [theme=dark] .colab-df-convert {\n",
              "      background-color: #3B4455;\n",
              "      fill: #D2E3FC;\n",
              "    }\n",
              "\n",
              "    [theme=dark] .colab-df-convert:hover {\n",
              "      background-color: #434B5C;\n",
              "      box-shadow: 0px 1px 3px 1px rgba(0, 0, 0, 0.15);\n",
              "      filter: drop-shadow(0px 1px 2px rgba(0, 0, 0, 0.3));\n",
              "      fill: #FFFFFF;\n",
              "    }\n",
              "  </style>\n",
              "\n",
              "    <script>\n",
              "      const buttonEl =\n",
              "        document.querySelector('#df-965b1145-9477-4618-b58a-8a68d335c4d9 button.colab-df-convert');\n",
              "      buttonEl.style.display =\n",
              "        google.colab.kernel.accessAllowed ? 'block' : 'none';\n",
              "\n",
              "      async function convertToInteractive(key) {\n",
              "        const element = document.querySelector('#df-965b1145-9477-4618-b58a-8a68d335c4d9');\n",
              "        const dataTable =\n",
              "          await google.colab.kernel.invokeFunction('convertToInteractive',\n",
              "                                                    [key], {});\n",
              "        if (!dataTable) return;\n",
              "\n",
              "        const docLinkHtml = 'Like what you see? Visit the ' +\n",
              "          '<a target=\"_blank\" href=https://colab.research.google.com/notebooks/data_table.ipynb>data table notebook</a>'\n",
              "          + ' to learn more about interactive tables.';\n",
              "        element.innerHTML = '';\n",
              "        dataTable['output_type'] = 'display_data';\n",
              "        await google.colab.output.renderOutput(dataTable, element);\n",
              "        const docLink = document.createElement('div');\n",
              "        docLink.innerHTML = docLinkHtml;\n",
              "        element.appendChild(docLink);\n",
              "      }\n",
              "    </script>\n",
              "  </div>\n",
              "\n",
              "\n",
              "    <div id=\"df-264caa15-a266-479a-bbad-fc39dbfcd27c\">\n",
              "      <button class=\"colab-df-quickchart\" onclick=\"quickchart('df-264caa15-a266-479a-bbad-fc39dbfcd27c')\"\n",
              "                title=\"Suggest charts\"\n",
              "                style=\"display:none;\">\n",
              "\n",
              "<svg xmlns=\"http://www.w3.org/2000/svg\" height=\"24px\"viewBox=\"0 0 24 24\"\n",
              "     width=\"24px\">\n",
              "    <g>\n",
              "        <path d=\"M19 3H5c-1.1 0-2 .9-2 2v14c0 1.1.9 2 2 2h14c1.1 0 2-.9 2-2V5c0-1.1-.9-2-2-2zM9 17H7v-7h2v7zm4 0h-2V7h2v10zm4 0h-2v-4h2v4z\"/>\n",
              "    </g>\n",
              "</svg>\n",
              "      </button>\n",
              "\n",
              "<style>\n",
              "  .colab-df-quickchart {\n",
              "      --bg-color: #E8F0FE;\n",
              "      --fill-color: #1967D2;\n",
              "      --hover-bg-color: #E2EBFA;\n",
              "      --hover-fill-color: #174EA6;\n",
              "      --disabled-fill-color: #AAA;\n",
              "      --disabled-bg-color: #DDD;\n",
              "  }\n",
              "\n",
              "  [theme=dark] .colab-df-quickchart {\n",
              "      --bg-color: #3B4455;\n",
              "      --fill-color: #D2E3FC;\n",
              "      --hover-bg-color: #434B5C;\n",
              "      --hover-fill-color: #FFFFFF;\n",
              "      --disabled-bg-color: #3B4455;\n",
              "      --disabled-fill-color: #666;\n",
              "  }\n",
              "\n",
              "  .colab-df-quickchart {\n",
              "    background-color: var(--bg-color);\n",
              "    border: none;\n",
              "    border-radius: 50%;\n",
              "    cursor: pointer;\n",
              "    display: none;\n",
              "    fill: var(--fill-color);\n",
              "    height: 32px;\n",
              "    padding: 0;\n",
              "    width: 32px;\n",
              "  }\n",
              "\n",
              "  .colab-df-quickchart:hover {\n",
              "    background-color: var(--hover-bg-color);\n",
              "    box-shadow: 0 1px 2px rgba(60, 64, 67, 0.3), 0 1px 3px 1px rgba(60, 64, 67, 0.15);\n",
              "    fill: var(--button-hover-fill-color);\n",
              "  }\n",
              "\n",
              "  .colab-df-quickchart-complete:disabled,\n",
              "  .colab-df-quickchart-complete:disabled:hover {\n",
              "    background-color: var(--disabled-bg-color);\n",
              "    fill: var(--disabled-fill-color);\n",
              "    box-shadow: none;\n",
              "  }\n",
              "\n",
              "  .colab-df-spinner {\n",
              "    border: 2px solid var(--fill-color);\n",
              "    border-color: transparent;\n",
              "    border-bottom-color: var(--fill-color);\n",
              "    animation:\n",
              "      spin 1s steps(1) infinite;\n",
              "  }\n",
              "\n",
              "  @keyframes spin {\n",
              "    0% {\n",
              "      border-color: transparent;\n",
              "      border-bottom-color: var(--fill-color);\n",
              "      border-left-color: var(--fill-color);\n",
              "    }\n",
              "    20% {\n",
              "      border-color: transparent;\n",
              "      border-left-color: var(--fill-color);\n",
              "      border-top-color: var(--fill-color);\n",
              "    }\n",
              "    30% {\n",
              "      border-color: transparent;\n",
              "      border-left-color: var(--fill-color);\n",
              "      border-top-color: var(--fill-color);\n",
              "      border-right-color: var(--fill-color);\n",
              "    }\n",
              "    40% {\n",
              "      border-color: transparent;\n",
              "      border-right-color: var(--fill-color);\n",
              "      border-top-color: var(--fill-color);\n",
              "    }\n",
              "    60% {\n",
              "      border-color: transparent;\n",
              "      border-right-color: var(--fill-color);\n",
              "    }\n",
              "    80% {\n",
              "      border-color: transparent;\n",
              "      border-right-color: var(--fill-color);\n",
              "      border-bottom-color: var(--fill-color);\n",
              "    }\n",
              "    90% {\n",
              "      border-color: transparent;\n",
              "      border-bottom-color: var(--fill-color);\n",
              "    }\n",
              "  }\n",
              "</style>\n",
              "\n",
              "      <script>\n",
              "        async function quickchart(key) {\n",
              "          const quickchartButtonEl =\n",
              "            document.querySelector('#' + key + ' button');\n",
              "          quickchartButtonEl.disabled = true;  // To prevent multiple clicks.\n",
              "          quickchartButtonEl.classList.add('colab-df-spinner');\n",
              "          try {\n",
              "            const charts = await google.colab.kernel.invokeFunction(\n",
              "                'suggestCharts', [key], {});\n",
              "          } catch (error) {\n",
              "            console.error('Error during call to suggestCharts:', error);\n",
              "          }\n",
              "          quickchartButtonEl.classList.remove('colab-df-spinner');\n",
              "          quickchartButtonEl.classList.add('colab-df-quickchart-complete');\n",
              "        }\n",
              "        (() => {\n",
              "          let quickchartButtonEl =\n",
              "            document.querySelector('#df-264caa15-a266-479a-bbad-fc39dbfcd27c button');\n",
              "          quickchartButtonEl.style.display =\n",
              "            google.colab.kernel.accessAllowed ? 'block' : 'none';\n",
              "        })();\n",
              "      </script>\n",
              "    </div>\n",
              "\n",
              "    </div>\n",
              "  </div>\n"
            ],
            "application/vnd.google.colaboratory.intrinsic+json": {
              "type": "dataframe",
              "variable_name": "df_phrases",
              "summary": "{\n  \"name\": \"df_phrases\",\n  \"rows\": 2264,\n  \"fields\": [\n    {\n      \"column\": \"Phrase\",\n      \"properties\": {\n        \"dtype\": \"string\",\n        \"num_unique_values\": 2259,\n        \"samples\": [\n          \"- The Group -\\u00a6 s sales during the period were EUR 31.6 million EUR 36.6 million , 1-6/2007 and profit before taxes was EUR 0.2 1.3 million .\",\n          \"Profit after taxes for the period was up to EUR0 .9 m , from EUR0 .01 m last year .\",\n          \"`` They want my credit card info and my personal details .\"\n        ],\n        \"semantic_type\": \"\",\n        \"description\": \"\"\n      }\n    },\n    {\n      \"column\": \"Sentiment\",\n      \"properties\": {\n        \"dtype\": \"category\",\n        \"num_unique_values\": 3,\n        \"samples\": [\n          \"neutral\",\n          \"positive\",\n          \"negative\"\n        ],\n        \"semantic_type\": \"\",\n        \"description\": \"\"\n      }\n    }\n  ]\n}"
            }
          },
          "metadata": {},
          "execution_count": 8
        }
      ]
    },
    {
      "cell_type": "markdown",
      "source": [
        "### Text as Data"
      ],
      "metadata": {
        "id": "hq_NzrsrNx2v"
      }
    },
    {
      "cell_type": "markdown",
      "source": [
        "#### Preprocessing text data\n",
        "\n",
        "The following Python function, preprocess_text, performs several preprocessing steps on a given text to prepare it for natural language processing (NLP) tasks. These include:\n",
        "* Converting all characters in the text to lowercase, to make the text case-insensitive\n",
        "* Removing punctuation and non-alphanumeric characters: Uses a regular expression to remove any characters that are not alphanumeric (including punctuation), which helps in cleaning the text.\n",
        "* Filtering out the stopwords, i.e., common words like \"is\", \"and\", \"the\", etc., that are often removed in NLP tasks because they carry less meaningful information.\n",
        "* Lemmatization -- the process of reducing words to their base or dictionary form. For example, \"running\" becomes \"run\"."
      ],
      "metadata": {
        "id": "-T3LW3u_OH7N"
      }
    },
    {
      "cell_type": "code",
      "source": [
        "def preprocess_text(text, stopwrds):\n",
        "  filtered_tokens = []\n",
        "\n",
        "  # Convert text to lowercase\n",
        "  text = text.lower()\n",
        "\n",
        "  # Remove punctuation and non-alphanumeric characters using regular expression\n",
        "  text = re.sub(r'\\W+', ' ', text)\n",
        "\n",
        "  # Tokenize text using NLTK\n",
        "  word_tokens = word_tokenize(text)\n",
        "\n",
        "  # Remove stop words\n",
        "  if stopwrds:\n",
        "    filtered_tokens = [word for word in word_tokens if word not in stop_words]\n",
        "\n",
        "    # Reconstruct the text without stop words\n",
        "    text = ' '.join(filtered_tokens)\n",
        "\n",
        "  # Use spaCy for lemmatization\n",
        "  doc = nlp(text)\n",
        "  lemmatized_text = \" \".join([token.lemma_ for token in doc])\n",
        "\n",
        "  return lemmatized_text"
      ],
      "metadata": {
        "id": "NGhy0SW0Mt4t"
      },
      "execution_count": 9,
      "outputs": []
    },
    {
      "cell_type": "code",
      "source": [
        "df_phrases['Pre_Processed'] = df_phrases['Phrase'].apply(lambda x: preprocess_text(x, True))\n",
        "df_phrases['Pre_Processed_w_stopwords'] = df_phrases['Phrase'].apply(lambda x: preprocess_text(x, False))\n",
        "df_phrases.head()"
      ],
      "metadata": {
        "colab": {
          "base_uri": "https://localhost:8080/",
          "height": 377
        },
        "id": "bepGHaQhOjd2",
        "outputId": "7c12b3d0-a78c-4973-c97b-458ee936d20e"
      },
      "execution_count": 10,
      "outputs": [
        {
          "output_type": "stream",
          "name": "stderr",
          "text": [
            "/usr/local/lib/python3.11/dist-packages/google/colab/_interactive_table_hint_button.py:178: FutureWarning: Index.format is deprecated and will be removed in a future version. Convert using index.astype(str) or index.map(formatter) instead.\n",
            "  df_html=dataframe._repr_html_(),  # pylint: disable=protected-access\n",
            "/usr/local/lib/python3.11/dist-packages/google/colab/_interactive_table_hint_button.py:178: FutureWarning: RangeIndex.format is deprecated and will be removed in a future version. Convert using index.astype(str) or index.map(formatter) instead.\n",
            "  df_html=dataframe._repr_html_(),  # pylint: disable=protected-access\n"
          ]
        },
        {
          "output_type": "execute_result",
          "data": {
            "text/plain": [
              "                                              Phrase Sentiment   \n",
              "0  According to Gran , the company has no plans t...   neutral  \\\n",
              "1  For the last quarter of 2010 , Componenta 's n...  positive   \n",
              "2  In the third quarter of 2010 , net sales incre...  positive   \n",
              "3  Operating profit rose to EUR 13.1 mn from EUR ...  positive   \n",
              "4  Operating profit totalled EUR 21.1 mn , up fro...  positive   \n",
              "\n",
              "                                       Pre_Processed   \n",
              "0  accord gran company plan move production russi...  \\\n",
              "1  last quarter 2010 componenta net sale double e...   \n",
              "2  third quarter 2010 net sale increase 5 2 eur 2...   \n",
              "3  operating profit rise eur 13 1 mn eur 8 7 mn c...   \n",
              "4  operating profit total eur 21 1 mn eur 18 6 mn...   \n",
              "\n",
              "                           Pre_Processed_w_stopwords  \n",
              "0  accord to gran the company have no plan to mov...  \n",
              "1  for the last quarter of 2010 componenta s net ...  \n",
              "2  in the third quarter of 2010 net sale increase...  \n",
              "3  operating profit rise to eur 13 1 mn from eur ...  \n",
              "4  operating profit total eur 21 1 mn up from eur...  "
            ],
            "text/html": [
              "\n",
              "  <div id=\"df-de0631de-725e-4336-97bb-2dcf56a00be0\" class=\"colab-df-container\">\n",
              "    <div>\n",
              "<style scoped>\n",
              "    .dataframe tbody tr th:only-of-type {\n",
              "        vertical-align: middle;\n",
              "    }\n",
              "\n",
              "    .dataframe tbody tr th {\n",
              "        vertical-align: top;\n",
              "    }\n",
              "\n",
              "    .dataframe thead th {\n",
              "        text-align: right;\n",
              "    }\n",
              "</style>\n",
              "<table border=\"1\" class=\"dataframe\">\n",
              "  <thead>\n",
              "    <tr style=\"text-align: right;\">\n",
              "      <th></th>\n",
              "      <th>Phrase</th>\n",
              "      <th>Sentiment</th>\n",
              "      <th>Pre_Processed</th>\n",
              "      <th>Pre_Processed_w_stopwords</th>\n",
              "    </tr>\n",
              "  </thead>\n",
              "  <tbody>\n",
              "    <tr>\n",
              "      <th>0</th>\n",
              "      <td>According to Gran , the company has no plans t...</td>\n",
              "      <td>neutral</td>\n",
              "      <td>accord gran company plan move production russi...</td>\n",
              "      <td>accord to gran the company have no plan to mov...</td>\n",
              "    </tr>\n",
              "    <tr>\n",
              "      <th>1</th>\n",
              "      <td>For the last quarter of 2010 , Componenta 's n...</td>\n",
              "      <td>positive</td>\n",
              "      <td>last quarter 2010 componenta net sale double e...</td>\n",
              "      <td>for the last quarter of 2010 componenta s net ...</td>\n",
              "    </tr>\n",
              "    <tr>\n",
              "      <th>2</th>\n",
              "      <td>In the third quarter of 2010 , net sales incre...</td>\n",
              "      <td>positive</td>\n",
              "      <td>third quarter 2010 net sale increase 5 2 eur 2...</td>\n",
              "      <td>in the third quarter of 2010 net sale increase...</td>\n",
              "    </tr>\n",
              "    <tr>\n",
              "      <th>3</th>\n",
              "      <td>Operating profit rose to EUR 13.1 mn from EUR ...</td>\n",
              "      <td>positive</td>\n",
              "      <td>operating profit rise eur 13 1 mn eur 8 7 mn c...</td>\n",
              "      <td>operating profit rise to eur 13 1 mn from eur ...</td>\n",
              "    </tr>\n",
              "    <tr>\n",
              "      <th>4</th>\n",
              "      <td>Operating profit totalled EUR 21.1 mn , up fro...</td>\n",
              "      <td>positive</td>\n",
              "      <td>operating profit total eur 21 1 mn eur 18 6 mn...</td>\n",
              "      <td>operating profit total eur 21 1 mn up from eur...</td>\n",
              "    </tr>\n",
              "  </tbody>\n",
              "</table>\n",
              "</div>\n",
              "    <div class=\"colab-df-buttons\">\n",
              "\n",
              "  <div class=\"colab-df-container\">\n",
              "    <button class=\"colab-df-convert\" onclick=\"convertToInteractive('df-de0631de-725e-4336-97bb-2dcf56a00be0')\"\n",
              "            title=\"Convert this dataframe to an interactive table.\"\n",
              "            style=\"display:none;\">\n",
              "\n",
              "  <svg xmlns=\"http://www.w3.org/2000/svg\" height=\"24px\" viewBox=\"0 -960 960 960\">\n",
              "    <path d=\"M120-120v-720h720v720H120Zm60-500h600v-160H180v160Zm220 220h160v-160H400v160Zm0 220h160v-160H400v160ZM180-400h160v-160H180v160Zm440 0h160v-160H620v160ZM180-180h160v-160H180v160Zm440 0h160v-160H620v160Z\"/>\n",
              "  </svg>\n",
              "    </button>\n",
              "\n",
              "  <style>\n",
              "    .colab-df-container {\n",
              "      display:flex;\n",
              "      gap: 12px;\n",
              "    }\n",
              "\n",
              "    .colab-df-convert {\n",
              "      background-color: #E8F0FE;\n",
              "      border: none;\n",
              "      border-radius: 50%;\n",
              "      cursor: pointer;\n",
              "      display: none;\n",
              "      fill: #1967D2;\n",
              "      height: 32px;\n",
              "      padding: 0 0 0 0;\n",
              "      width: 32px;\n",
              "    }\n",
              "\n",
              "    .colab-df-convert:hover {\n",
              "      background-color: #E2EBFA;\n",
              "      box-shadow: 0px 1px 2px rgba(60, 64, 67, 0.3), 0px 1px 3px 1px rgba(60, 64, 67, 0.15);\n",
              "      fill: #174EA6;\n",
              "    }\n",
              "\n",
              "    .colab-df-buttons div {\n",
              "      margin-bottom: 4px;\n",
              "    }\n",
              "\n",
              "    [theme=dark] .colab-df-convert {\n",
              "      background-color: #3B4455;\n",
              "      fill: #D2E3FC;\n",
              "    }\n",
              "\n",
              "    [theme=dark] .colab-df-convert:hover {\n",
              "      background-color: #434B5C;\n",
              "      box-shadow: 0px 1px 3px 1px rgba(0, 0, 0, 0.15);\n",
              "      filter: drop-shadow(0px 1px 2px rgba(0, 0, 0, 0.3));\n",
              "      fill: #FFFFFF;\n",
              "    }\n",
              "  </style>\n",
              "\n",
              "    <script>\n",
              "      const buttonEl =\n",
              "        document.querySelector('#df-de0631de-725e-4336-97bb-2dcf56a00be0 button.colab-df-convert');\n",
              "      buttonEl.style.display =\n",
              "        google.colab.kernel.accessAllowed ? 'block' : 'none';\n",
              "\n",
              "      async function convertToInteractive(key) {\n",
              "        const element = document.querySelector('#df-de0631de-725e-4336-97bb-2dcf56a00be0');\n",
              "        const dataTable =\n",
              "          await google.colab.kernel.invokeFunction('convertToInteractive',\n",
              "                                                    [key], {});\n",
              "        if (!dataTable) return;\n",
              "\n",
              "        const docLinkHtml = 'Like what you see? Visit the ' +\n",
              "          '<a target=\"_blank\" href=https://colab.research.google.com/notebooks/data_table.ipynb>data table notebook</a>'\n",
              "          + ' to learn more about interactive tables.';\n",
              "        element.innerHTML = '';\n",
              "        dataTable['output_type'] = 'display_data';\n",
              "        await google.colab.output.renderOutput(dataTable, element);\n",
              "        const docLink = document.createElement('div');\n",
              "        docLink.innerHTML = docLinkHtml;\n",
              "        element.appendChild(docLink);\n",
              "      }\n",
              "    </script>\n",
              "  </div>\n",
              "\n",
              "\n",
              "    <div id=\"df-4dfb9ae7-b4ae-4746-87c1-44b452148881\">\n",
              "      <button class=\"colab-df-quickchart\" onclick=\"quickchart('df-4dfb9ae7-b4ae-4746-87c1-44b452148881')\"\n",
              "                title=\"Suggest charts\"\n",
              "                style=\"display:none;\">\n",
              "\n",
              "<svg xmlns=\"http://www.w3.org/2000/svg\" height=\"24px\"viewBox=\"0 0 24 24\"\n",
              "     width=\"24px\">\n",
              "    <g>\n",
              "        <path d=\"M19 3H5c-1.1 0-2 .9-2 2v14c0 1.1.9 2 2 2h14c1.1 0 2-.9 2-2V5c0-1.1-.9-2-2-2zM9 17H7v-7h2v7zm4 0h-2V7h2v10zm4 0h-2v-4h2v4z\"/>\n",
              "    </g>\n",
              "</svg>\n",
              "      </button>\n",
              "\n",
              "<style>\n",
              "  .colab-df-quickchart {\n",
              "      --bg-color: #E8F0FE;\n",
              "      --fill-color: #1967D2;\n",
              "      --hover-bg-color: #E2EBFA;\n",
              "      --hover-fill-color: #174EA6;\n",
              "      --disabled-fill-color: #AAA;\n",
              "      --disabled-bg-color: #DDD;\n",
              "  }\n",
              "\n",
              "  [theme=dark] .colab-df-quickchart {\n",
              "      --bg-color: #3B4455;\n",
              "      --fill-color: #D2E3FC;\n",
              "      --hover-bg-color: #434B5C;\n",
              "      --hover-fill-color: #FFFFFF;\n",
              "      --disabled-bg-color: #3B4455;\n",
              "      --disabled-fill-color: #666;\n",
              "  }\n",
              "\n",
              "  .colab-df-quickchart {\n",
              "    background-color: var(--bg-color);\n",
              "    border: none;\n",
              "    border-radius: 50%;\n",
              "    cursor: pointer;\n",
              "    display: none;\n",
              "    fill: var(--fill-color);\n",
              "    height: 32px;\n",
              "    padding: 0;\n",
              "    width: 32px;\n",
              "  }\n",
              "\n",
              "  .colab-df-quickchart:hover {\n",
              "    background-color: var(--hover-bg-color);\n",
              "    box-shadow: 0 1px 2px rgba(60, 64, 67, 0.3), 0 1px 3px 1px rgba(60, 64, 67, 0.15);\n",
              "    fill: var(--button-hover-fill-color);\n",
              "  }\n",
              "\n",
              "  .colab-df-quickchart-complete:disabled,\n",
              "  .colab-df-quickchart-complete:disabled:hover {\n",
              "    background-color: var(--disabled-bg-color);\n",
              "    fill: var(--disabled-fill-color);\n",
              "    box-shadow: none;\n",
              "  }\n",
              "\n",
              "  .colab-df-spinner {\n",
              "    border: 2px solid var(--fill-color);\n",
              "    border-color: transparent;\n",
              "    border-bottom-color: var(--fill-color);\n",
              "    animation:\n",
              "      spin 1s steps(1) infinite;\n",
              "  }\n",
              "\n",
              "  @keyframes spin {\n",
              "    0% {\n",
              "      border-color: transparent;\n",
              "      border-bottom-color: var(--fill-color);\n",
              "      border-left-color: var(--fill-color);\n",
              "    }\n",
              "    20% {\n",
              "      border-color: transparent;\n",
              "      border-left-color: var(--fill-color);\n",
              "      border-top-color: var(--fill-color);\n",
              "    }\n",
              "    30% {\n",
              "      border-color: transparent;\n",
              "      border-left-color: var(--fill-color);\n",
              "      border-top-color: var(--fill-color);\n",
              "      border-right-color: var(--fill-color);\n",
              "    }\n",
              "    40% {\n",
              "      border-color: transparent;\n",
              "      border-right-color: var(--fill-color);\n",
              "      border-top-color: var(--fill-color);\n",
              "    }\n",
              "    60% {\n",
              "      border-color: transparent;\n",
              "      border-right-color: var(--fill-color);\n",
              "    }\n",
              "    80% {\n",
              "      border-color: transparent;\n",
              "      border-right-color: var(--fill-color);\n",
              "      border-bottom-color: var(--fill-color);\n",
              "    }\n",
              "    90% {\n",
              "      border-color: transparent;\n",
              "      border-bottom-color: var(--fill-color);\n",
              "    }\n",
              "  }\n",
              "</style>\n",
              "\n",
              "      <script>\n",
              "        async function quickchart(key) {\n",
              "          const quickchartButtonEl =\n",
              "            document.querySelector('#' + key + ' button');\n",
              "          quickchartButtonEl.disabled = true;  // To prevent multiple clicks.\n",
              "          quickchartButtonEl.classList.add('colab-df-spinner');\n",
              "          try {\n",
              "            const charts = await google.colab.kernel.invokeFunction(\n",
              "                'suggestCharts', [key], {});\n",
              "          } catch (error) {\n",
              "            console.error('Error during call to suggestCharts:', error);\n",
              "          }\n",
              "          quickchartButtonEl.classList.remove('colab-df-spinner');\n",
              "          quickchartButtonEl.classList.add('colab-df-quickchart-complete');\n",
              "        }\n",
              "        (() => {\n",
              "          let quickchartButtonEl =\n",
              "            document.querySelector('#df-4dfb9ae7-b4ae-4746-87c1-44b452148881 button');\n",
              "          quickchartButtonEl.style.display =\n",
              "            google.colab.kernel.accessAllowed ? 'block' : 'none';\n",
              "        })();\n",
              "      </script>\n",
              "    </div>\n",
              "\n",
              "    </div>\n",
              "  </div>\n"
            ],
            "application/vnd.google.colaboratory.intrinsic+json": {
              "type": "dataframe",
              "variable_name": "df_phrases",
              "summary": "{\n  \"name\": \"df_phrases\",\n  \"rows\": 2264,\n  \"fields\": [\n    {\n      \"column\": \"Phrase\",\n      \"properties\": {\n        \"dtype\": \"string\",\n        \"num_unique_values\": 2259,\n        \"samples\": [\n          \"- The Group -\\u00a6 s sales during the period were EUR 31.6 million EUR 36.6 million , 1-6/2007 and profit before taxes was EUR 0.2 1.3 million .\",\n          \"Profit after taxes for the period was up to EUR0 .9 m , from EUR0 .01 m last year .\",\n          \"`` They want my credit card info and my personal details .\"\n        ],\n        \"semantic_type\": \"\",\n        \"description\": \"\"\n      }\n    },\n    {\n      \"column\": \"Sentiment\",\n      \"properties\": {\n        \"dtype\": \"category\",\n        \"num_unique_values\": 3,\n        \"samples\": [\n          \"neutral\",\n          \"positive\",\n          \"negative\"\n        ],\n        \"semantic_type\": \"\",\n        \"description\": \"\"\n      }\n    },\n    {\n      \"column\": \"Pre_Processed\",\n      \"properties\": {\n        \"dtype\": \"string\",\n        \"num_unique_values\": 2253,\n        \"samples\": [\n          \"net sale healthcare trade business 2009 eur 145 1 million eur 155 2 million operating profit eur 8 9 million eur 7 9 million\",\n          \"ism disclose financial result daily say\",\n          \"finnish business software group affectogenimap oyj say net profit halve 1 2 mln euro 1 5 mln first nine month 2006 2 2 mln euro 2 8 mln period 2005\"\n        ],\n        \"semantic_type\": \"\",\n        \"description\": \"\"\n      }\n    },\n    {\n      \"column\": \"Pre_Processed_w_stopwords\",\n      \"properties\": {\n        \"dtype\": \"string\",\n        \"num_unique_values\": 2258,\n        \"samples\": [\n          \"net sale fall by 5 from the previous accounting period\",\n          \"profit after taxis for the period be up to eur0 9 m from eur0 01 m last year\",\n          \"  the issue identify by stonesoft affect a range of content inspection technology\"\n        ],\n        \"semantic_type\": \"\",\n        \"description\": \"\"\n      }\n    }\n  ]\n}"
            }
          },
          "metadata": {},
          "execution_count": 10
        }
      ]
    },
    {
      "cell_type": "markdown",
      "source": [
        "#### Bag of Words (document-term matrix)\n",
        "\n",
        "The following code blocks performs a Bag of Words (BoW) transformation on the pre-processed phrases and then visualizes the most common words found in those phrases."
      ],
      "metadata": {
        "id": "Wr_ib1bDPnNG"
      }
    },
    {
      "cell_type": "code",
      "source": [
        "texts = df_phrases['Pre_Processed'].apply(simple_preprocess)\n",
        "\n",
        "# Create a dictionary representation of the documents\n",
        "dictionary = corpora.Dictionary(texts)\n",
        "\n",
        "# Convert dictionary to a Bag of Words corpus\n",
        "corpus = [dictionary.doc2bow(text) for text in texts]"
      ],
      "metadata": {
        "id": "uo7oWGSbO7ro"
      },
      "execution_count": 14,
      "outputs": []
    },
    {
      "cell_type": "markdown",
      "source": [
        "Apply the LDA model"
      ],
      "metadata": {
        "id": "LQ3BVq8To74N"
      }
    },
    {
      "cell_type": "code",
      "source": [
        "lda_model = models.LdaModel(corpus=corpus, id2word=dictionary, num_topics=2, passes=20)"
      ],
      "metadata": {
        "id": "MJubOv75P5SH"
      },
      "execution_count": 15,
      "outputs": []
    },
    {
      "cell_type": "markdown",
      "source": [
        "### Visualizing the Topics\n"
      ],
      "metadata": {
        "id": "uiQLdcuIdPTO"
      }
    },
    {
      "cell_type": "code",
      "source": [
        "!pip install pyLDAvis"
      ],
      "metadata": {
        "colab": {
          "base_uri": "https://localhost:8080/"
        },
        "id": "KVfgs8aipKHS",
        "outputId": "fbb5f940-6c62-44d0-f3e1-fbf873a46157"
      },
      "execution_count": 16,
      "outputs": [
        {
          "output_type": "stream",
          "name": "stdout",
          "text": [
            "Collecting pyLDAvis\n",
            "  Downloading pyLDAvis-3.4.1-py3-none-any.whl.metadata (4.2 kB)\n",
            "Requirement already satisfied: numpy>=1.24.2 in /usr/local/lib/python3.11/dist-packages (from pyLDAvis) (1.26.4)\n",
            "Requirement already satisfied: scipy in /usr/local/lib/python3.11/dist-packages (from pyLDAvis) (1.13.1)\n",
            "Collecting pandas>=2.0.0 (from pyLDAvis)\n",
            "  Downloading pandas-2.2.3-cp311-cp311-manylinux_2_17_x86_64.manylinux2014_x86_64.whl.metadata (89 kB)\n",
            "\u001b[2K     \u001b[90m━━━━━━━━━━━━━━━━━━━━━━━━━━━━━━━━━━━━━━━━\u001b[0m \u001b[32m89.9/89.9 kB\u001b[0m \u001b[31m2.1 MB/s\u001b[0m eta \u001b[36m0:00:00\u001b[0m\n",
            "\u001b[?25hRequirement already satisfied: joblib>=1.2.0 in /usr/local/lib/python3.11/dist-packages (from pyLDAvis) (1.4.2)\n",
            "Requirement already satisfied: jinja2 in /usr/local/lib/python3.11/dist-packages (from pyLDAvis) (3.1.6)\n",
            "Requirement already satisfied: numexpr in /usr/local/lib/python3.11/dist-packages (from pyLDAvis) (2.10.2)\n",
            "Collecting funcy (from pyLDAvis)\n",
            "  Downloading funcy-2.0-py2.py3-none-any.whl.metadata (5.9 kB)\n",
            "Requirement already satisfied: scikit-learn>=1.0.0 in /usr/local/lib/python3.11/dist-packages (from pyLDAvis) (1.6.1)\n",
            "Requirement already satisfied: gensim in /usr/local/lib/python3.11/dist-packages (from pyLDAvis) (4.3.3)\n",
            "Requirement already satisfied: setuptools in /usr/local/lib/python3.11/dist-packages (from pyLDAvis) (75.2.0)\n",
            "Requirement already satisfied: python-dateutil>=2.8.2 in /usr/local/lib/python3.11/dist-packages (from pandas>=2.0.0->pyLDAvis) (2.9.0.post0)\n",
            "Requirement already satisfied: pytz>=2020.1 in /usr/local/lib/python3.11/dist-packages (from pandas>=2.0.0->pyLDAvis) (2025.2)\n",
            "Requirement already satisfied: tzdata>=2022.7 in /usr/local/lib/python3.11/dist-packages (from pandas>=2.0.0->pyLDAvis) (2025.2)\n",
            "Requirement already satisfied: threadpoolctl>=3.1.0 in /usr/local/lib/python3.11/dist-packages (from scikit-learn>=1.0.0->pyLDAvis) (3.6.0)\n",
            "Requirement already satisfied: smart-open>=1.8.1 in /usr/local/lib/python3.11/dist-packages (from gensim->pyLDAvis) (7.1.0)\n",
            "Requirement already satisfied: MarkupSafe>=2.0 in /usr/local/lib/python3.11/dist-packages (from jinja2->pyLDAvis) (3.0.2)\n",
            "Requirement already satisfied: six>=1.5 in /usr/local/lib/python3.11/dist-packages (from python-dateutil>=2.8.2->pandas>=2.0.0->pyLDAvis) (1.17.0)\n",
            "Requirement already satisfied: wrapt in /usr/local/lib/python3.11/dist-packages (from smart-open>=1.8.1->gensim->pyLDAvis) (1.17.2)\n",
            "Downloading pyLDAvis-3.4.1-py3-none-any.whl (2.6 MB)\n",
            "\u001b[2K   \u001b[90m━━━━━━━━━━━━━━━━━━━━━━━━━━━━━━━━━━━━━━━━\u001b[0m \u001b[32m2.6/2.6 MB\u001b[0m \u001b[31m29.1 MB/s\u001b[0m eta \u001b[36m0:00:00\u001b[0m\n",
            "\u001b[?25hDownloading pandas-2.2.3-cp311-cp311-manylinux_2_17_x86_64.manylinux2014_x86_64.whl (13.1 MB)\n",
            "\u001b[2K   \u001b[90m━━━━━━━━━━━━━━━━━━━━━━━━━━━━━━━━━━━━━━━━\u001b[0m \u001b[32m13.1/13.1 MB\u001b[0m \u001b[31m74.8 MB/s\u001b[0m eta \u001b[36m0:00:00\u001b[0m\n",
            "\u001b[?25hDownloading funcy-2.0-py2.py3-none-any.whl (30 kB)\n",
            "Installing collected packages: funcy, pandas, pyLDAvis\n",
            "  Attempting uninstall: pandas\n",
            "    Found existing installation: pandas 1.5.3\n",
            "    Uninstalling pandas-1.5.3:\n",
            "      Successfully uninstalled pandas-1.5.3\n",
            "\u001b[31mERROR: pip's dependency resolver does not currently take into account all the packages that are installed. This behaviour is the source of the following dependency conflicts.\n",
            "google-colab 1.0.0 requires pandas==2.2.2, but you have pandas 2.2.3 which is incompatible.\u001b[0m\u001b[31m\n",
            "\u001b[0mSuccessfully installed funcy-2.0 pandas-2.2.3 pyLDAvis-3.4.1\n"
          ]
        }
      ]
    },
    {
      "cell_type": "code",
      "source": [
        "import pyLDAvis\n",
        "import pyLDAvis.gensim_models as gensimvis"
      ],
      "metadata": {
        "id": "RYEN65uCpJ66"
      },
      "execution_count": 17,
      "outputs": []
    },
    {
      "cell_type": "code",
      "source": [
        "pyLDAvis.enable_notebook()\n",
        "prepared_vis = gensimvis.prepare(lda_model, corpus, dictionary)\n",
        "\n",
        "# Visualizing\n",
        "pyLDAvis.display(prepared_vis)"
      ],
      "metadata": {
        "colab": {
          "base_uri": "https://localhost:8080/",
          "height": 881
        },
        "id": "rdXqVqnWdsQK",
        "outputId": "5877f00d-2ace-438f-ab55-5c63f0d5837e"
      },
      "execution_count": 18,
      "outputs": [
        {
          "output_type": "execute_result",
          "data": {
            "text/plain": [
              "<IPython.core.display.HTML object>"
            ],
            "text/html": [
              "\n",
              "<link rel=\"stylesheet\" type=\"text/css\" href=\"https://cdn.jsdelivr.net/gh/bmabey/pyLDAvis@3.4.0/pyLDAvis/js/ldavis.v1.0.0.css\">\n",
              "\n",
              "\n",
              "<div id=\"ldavis_el6795136222686923792655355155\" style=\"background-color:white;\"></div>\n",
              "<script type=\"text/javascript\">\n",
              "\n",
              "var ldavis_el6795136222686923792655355155_data = {\"mdsDat\": {\"x\": [0.1785153528385359, -0.1785153528385359], \"y\": [0.0, 0.0], \"topics\": [1, 2], \"cluster\": [1, 1], \"Freq\": [61.21809556198641, 38.781904438013584]}, \"tinfo\": {\"Term\": [\"eur\", \"mn\", \"profit\", \"net\", \"year\", \"quarter\", \"sale\", \"million\", \"mln\", \"period\", \"decrease\", \"operating\", \"euro\", \"total\", \"fall\", \"first\", \"finnish\", \"early\", \"oyj\", \"loss\", \"correspond\", \"compare\", \"third\", \"report\", \"half\", \"service\", \"per\", \"second\", \"month\", \"also\", \"service\", \"also\", \"start\", \"stock\", \"cost\", \"customer\", \"oy\", \"term\", \"long\", \"paper\", \"part\", \"structure\", \"price\", \"production\", \"printing\", \"country\", \"hold\", \"sell\", \"russia\", \"take\", \"route\", \"board\", \"lead\", \"agreement\", \"measure\", \"offer\", \"manufacture\", \"deal\", \"carry\", \"transaction\", \"capital\", \"lose\", \"set\", \"include\", \"use\", \"exchange\", \"nokia\", \"equipment\", \"finland\", \"market\", \"new\", \"mobile\", \"company\", \"business\", \"operation\", \"base\", \"plant\", \"share\", \"product\", \"make\", \"well\", \"construction\", \"say\", \"percent\", \"helsinki\", \"group\", \"finnish\", \"result\", \"eur\", \"mn\", \"profit\", \"net\", \"mln\", \"quarter\", \"period\", \"operating\", \"decrease\", \"euro\", \"first\", \"million\", \"total\", \"compare\", \"correspond\", \"loss\", \"early\", \"half\", \"third\", \"fall\", \"second\", \"earning\", \"item\", \"usd\", \"recur\", \"news\", \"exclude\", \"corresponding\", \"rise\", \"eps\", \"year\", \"month\", \"hel\", \"sale\", \"oyj\", \"per\", \"report\", \"finnish\", \"say\", \"drop\", \"company\", \"share\", \"group\"], \"Freq\": [862.0, 497.0, 299.0, 240.0, 215.0, 182.0, 251.0, 182.0, 177.0, 160.0, 149.0, 139.0, 128.0, 121.0, 118.0, 104.0, 206.0, 71.0, 89.0, 60.0, 58.0, 58.0, 55.0, 85.0, 52.0, 94.0, 56.0, 45.0, 39.0, 72.0, 93.97819748147013, 72.40802492667868, 52.02064712702949, 62.20709087278512, 49.675343300829724, 42.60053816121762, 40.68487309226959, 62.19977098788513, 30.84601551955873, 33.631911774569375, 30.507705310916325, 29.198865799606853, 77.61139070314997, 27.880516790048027, 30.12779618517762, 31.953939323356618, 27.86520817931026, 29.903448625594635, 28.28572790690481, 26.120273166947523, 24.25597433471222, 29.522448429722804, 24.897469393139247, 25.115044471159578, 25.405506396960284, 23.367374310380914, 24.961833189639947, 23.996557464394726, 23.775144958200688, 23.458340414459723, 61.9602138359155, 27.806533267322195, 27.914360515153543, 76.78608582443555, 34.54597819784704, 28.381441287025194, 49.41758919150278, 30.51318308083128, 97.35871388114035, 113.78051507802006, 55.99616666686834, 52.00050343152368, 214.3167390563208, 71.84391177551886, 79.45487326240014, 42.68262624256933, 39.28726829985533, 144.16191594313133, 59.17173376242179, 38.20154515768752, 42.15384209178187, 36.83125448401699, 104.03295429331534, 61.45008250055468, 52.159160722355075, 60.995539693860124, 63.80092388133423, 38.99261584270427, 862.1413172925761, 497.0025414618617, 298.9252632864386, 240.32535443060002, 177.040984221311, 181.53423959233092, 160.10290275424524, 139.2189846481699, 148.60116319222047, 127.4604605836437, 104.05591663817245, 181.16951470160984, 120.77604373713052, 58.19391570353375, 58.24051943957033, 60.28405823149056, 70.48157491325874, 51.73685540104951, 54.40490982068874, 117.14119850610989, 45.23431810868643, 30.555597032135744, 29.327102855824815, 35.23103731498295, 26.169971957430697, 32.82611362988063, 25.874544322523867, 25.11647613552085, 31.18437583176665, 22.481045277952745, 208.77008027538253, 38.548066748996284, 37.23176448713695, 225.84689354667586, 82.47839632169001, 52.21737476350147, 71.61653495579532, 142.91509078373272, 82.53068113079078, 48.872818163378355, 83.7400490277856, 67.39861752505897, 51.85302387675711], \"Total\": [862.0, 497.0, 299.0, 240.0, 215.0, 182.0, 251.0, 182.0, 177.0, 160.0, 149.0, 139.0, 128.0, 121.0, 118.0, 104.0, 206.0, 71.0, 89.0, 60.0, 58.0, 58.0, 55.0, 85.0, 52.0, 94.0, 56.0, 45.0, 39.0, 72.0, 94.28608985670532, 72.73896170932278, 52.3299144624936, 62.58742380901317, 50.00399570772081, 42.90193770980088, 41.00956028769541, 62.756797427867625, 31.147031114890172, 33.97086253186311, 30.815909534898523, 29.49981428356411, 78.4419510838151, 28.185479621574498, 30.45876018963016, 32.30907903067259, 28.17824817632836, 30.240784900334173, 28.607446482751516, 26.42568410420778, 24.557365801821103, 29.889481367334668, 25.20940923704345, 25.430551555525337, 25.73913617837312, 23.676719372245046, 25.29908698525883, 24.322776737226388, 24.099824386534422, 23.778826500737953, 62.82458865879837, 28.20368132913873, 28.314325590309014, 78.94094006498722, 35.33518857753077, 28.94436550194091, 51.99244915819461, 31.40316430493871, 112.19534985196533, 135.8392838279977, 62.15040151211497, 57.823397975199576, 298.0567880841064, 84.48096644714673, 97.45108299303685, 46.68612695673732, 42.46602544560302, 211.5605334681903, 70.83379438987492, 41.89973080270322, 47.90331586744442, 40.441296800995644, 186.5636354241061, 85.88700998016097, 76.92546971688184, 112.84856357061724, 206.71601466506695, 68.08540757422406, 862.7784248922363, 497.56755336803167, 299.52069951512647, 240.91718647304387, 177.61636602280606, 182.1331257581569, 160.7147763795203, 139.79253116554497, 149.23017726772906, 128.12962887748765, 104.69529862396847, 182.36252072421166, 121.5739986496557, 58.7690426612183, 58.8287413990405, 60.89534702962929, 71.27826985229596, 52.32780054032595, 55.04664267495546, 118.69137259549841, 45.9491011676595, 31.12805907670885, 29.894585141411675, 35.93343624920062, 26.72960265993143, 33.532971425838845, 26.43897303629443, 25.679520285496082, 31.91071922484986, 23.043860739908315, 215.17909723166852, 39.619597105147236, 38.46277790980225, 251.7142383477106, 89.76882466342931, 56.74749702211539, 85.10958724346176, 206.71601466506695, 186.5636354241061, 71.29285962104584, 298.0567880841064, 211.5605334681903, 112.84856357061724], \"Category\": [\"Default\", \"Default\", \"Default\", \"Default\", \"Default\", \"Default\", \"Default\", \"Default\", \"Default\", \"Default\", \"Default\", \"Default\", \"Default\", \"Default\", \"Default\", \"Default\", \"Default\", \"Default\", \"Default\", \"Default\", \"Default\", \"Default\", \"Default\", \"Default\", \"Default\", \"Default\", \"Default\", \"Default\", \"Default\", \"Default\", \"Topic1\", \"Topic1\", \"Topic1\", \"Topic1\", \"Topic1\", \"Topic1\", \"Topic1\", \"Topic1\", \"Topic1\", \"Topic1\", \"Topic1\", \"Topic1\", \"Topic1\", \"Topic1\", \"Topic1\", \"Topic1\", \"Topic1\", \"Topic1\", \"Topic1\", \"Topic1\", \"Topic1\", \"Topic1\", \"Topic1\", \"Topic1\", \"Topic1\", \"Topic1\", \"Topic1\", \"Topic1\", \"Topic1\", \"Topic1\", \"Topic1\", \"Topic1\", \"Topic1\", \"Topic1\", \"Topic1\", \"Topic1\", \"Topic1\", \"Topic1\", \"Topic1\", \"Topic1\", \"Topic1\", \"Topic1\", \"Topic1\", \"Topic1\", \"Topic1\", \"Topic1\", \"Topic1\", \"Topic1\", \"Topic1\", \"Topic1\", \"Topic1\", \"Topic1\", \"Topic1\", \"Topic1\", \"Topic1\", \"Topic1\", \"Topic1\", \"Topic1\", \"Topic2\", \"Topic2\", \"Topic2\", \"Topic2\", \"Topic2\", \"Topic2\", \"Topic2\", \"Topic2\", \"Topic2\", \"Topic2\", \"Topic2\", \"Topic2\", \"Topic2\", \"Topic2\", \"Topic2\", \"Topic2\", \"Topic2\", \"Topic2\", \"Topic2\", \"Topic2\", \"Topic2\", \"Topic2\", \"Topic2\", \"Topic2\", \"Topic2\", \"Topic2\", \"Topic2\", \"Topic2\", \"Topic2\", \"Topic2\", \"Topic2\", \"Topic2\", \"Topic2\", \"Topic2\", \"Topic2\", \"Topic2\", \"Topic2\", \"Topic2\", \"Topic2\", \"Topic2\", \"Topic2\", \"Topic2\", \"Topic2\"], \"logprob\": [30.0, 29.0, 28.0, 27.0, 26.0, 25.0, 24.0, 23.0, 22.0, 21.0, 20.0, 19.0, 18.0, 17.0, 16.0, 15.0, 14.0, 13.0, 12.0, 11.0, 10.0, 9.0, 8.0, 7.0, 6.0, 5.0, 4.0, 3.0, 2.0, 1.0, -5.1403, -5.401, -5.7317, -5.5529, -5.7779, -5.9315, -5.9775, -5.553, -6.2544, -6.1679, -6.2654, -6.3092, -5.3316, -6.3554, -6.2779, -6.2191, -6.356, -6.2854, -6.341, -6.4206, -6.4947, -6.2982, -6.4686, -6.4599, -6.4484, -6.532, -6.466, -6.5054, -6.5147, -6.5281, -5.5569, -6.3581, -6.3542, -5.3423, -6.1411, -6.3376, -5.7831, -6.2652, -5.105, -4.9491, -5.6581, -5.7321, -4.3159, -5.4089, -5.3082, -5.9296, -6.0125, -4.7124, -5.6029, -6.0405, -5.942, -6.077, -5.0387, -5.5651, -5.7291, -5.5726, -5.5276, -6.02, -2.4675, -3.0183, -3.5267, -3.7449, -4.0505, -4.0254, -4.1511, -4.2908, -4.2256, -4.3791, -4.5819, -4.0274, -4.4329, -5.1631, -5.1623, -5.1278, -4.9715, -5.2807, -5.2304, -4.4635, -5.415, -5.8073, -5.8484, -5.6649, -5.9623, -5.7356, -5.9736, -6.0033, -5.787, -6.1142, -3.8856, -5.575, -5.6097, -3.807, -4.8143, -5.2715, -4.9555, -4.2646, -4.8137, -5.3376, -4.7992, -5.0162, -5.2785], \"loglift\": [30.0, 29.0, 28.0, 27.0, 26.0, 25.0, 24.0, 23.0, 22.0, 21.0, 20.0, 19.0, 18.0, 17.0, 16.0, 15.0, 14.0, 13.0, 12.0, 11.0, 10.0, 9.0, 8.0, 7.0, 6.0, 5.0, 4.0, 3.0, 2.0, 1.0, 0.4875, 0.4862, 0.4848, 0.4846, 0.4841, 0.4837, 0.4828, 0.4818, 0.481, 0.4807, 0.4807, 0.4805, 0.4801, 0.4798, 0.4798, 0.4797, 0.4796, 0.4795, 0.4794, 0.4791, 0.4784, 0.4784, 0.4783, 0.4782, 0.4777, 0.4776, 0.4773, 0.4772, 0.4772, 0.4772, 0.4769, 0.4765, 0.4765, 0.4631, 0.4681, 0.4711, 0.4399, 0.462, 0.3489, 0.3135, 0.3865, 0.3846, 0.1609, 0.3287, 0.2866, 0.4011, 0.4129, 0.1072, 0.3108, 0.3983, 0.3629, 0.3972, -0.0933, 0.1559, 0.1022, -0.1245, -0.6849, -0.0667, 0.9465, 0.9461, 0.9452, 0.9448, 0.944, 0.9439, 0.9434, 0.9431, 0.943, 0.942, 0.9411, 0.9407, 0.9406, 0.9374, 0.9372, 0.9371, 0.936, 0.9359, 0.9355, 0.9341, 0.9315, 0.9287, 0.9281, 0.9275, 0.9261, 0.9259, 0.9256, 0.925, 0.9242, 0.9225, 0.917, 0.9198, 0.9147, 0.8388, 0.8625, 0.864, 0.7746, 0.5781, 0.1316, 0.5696, -0.3224, -0.1967, 0.1696]}, \"token.table\": {\"Topic\": [1, 1, 1, 2, 1, 1, 2, 1, 2, 1, 1, 2, 1, 2, 1, 2, 1, 2, 1, 2, 1, 1, 1, 1, 1, 2, 1, 2, 1, 2, 1, 2, 1, 2, 1, 2, 1, 2, 1, 2, 1, 2, 1, 2, 1, 2, 1, 2, 1, 2, 1, 2, 1, 2, 1, 2, 1, 2, 1, 2, 1, 1, 2, 1, 2, 1, 1, 1, 1, 2, 1, 2, 1, 1, 2, 1, 1, 2, 1, 2, 1, 2, 1, 2, 1, 2, 1, 2, 1, 2, 1, 2, 1, 2, 1, 1, 2, 1, 2, 1, 1, 2, 1, 1, 1, 2, 1, 2, 1, 2, 1, 2, 1, 2, 1, 1, 2, 1, 1, 2, 1, 2, 1, 2, 1, 2, 1, 2, 1, 2, 1, 1, 1, 2, 1, 2, 1, 2, 1, 1, 1, 1, 2, 1, 1, 1, 1, 1, 2, 1, 2, 1, 2, 1, 1, 2, 1, 2, 1, 2, 1, 2], \"Freq\": [0.9830695156341668, 0.9898409093014581, 0.9210444901511503, 0.08567855722336282, 1.0036975761240914, 0.8522629774251563, 0.153880815368431, 0.9868747463946524, 0.01591733461926859, 0.9958578790893514, 0.7179839834401387, 0.28182548882697034, 0.017015761270174647, 0.9869141536701296, 0.9149063686575224, 0.09890879661162404, 0.016998493869126188, 0.9859126444093189, 0.03894153741512083, 0.9735384353780208, 0.9999200922313455, 0.9904336787074876, 1.002285731028338, 0.9867294453789738, 0.00670105750933963, 0.9984575688916049, 0.30858630326992165, 0.6873058572830073, 0.014029521228169776, 0.9820664859718843, 0.0321253566608731, 0.9958860564870661, 0.04339550613010599, 0.9547011348623318, 0.9871616662249765, 0.03184392471693472, 0.0011590461364688195, 0.9990977696361223, 0.007804596085704419, 0.9911837028844612, 0.9673730798528789, 0.03454903856617425, 0.037822951694350515, 0.9833967440531134, 0.016850424392816008, 0.9857498269797366, 0.8645634612128342, 0.13369538059992284, 0.30960349203566273, 0.691770302517184, 0.009551527271455383, 0.9933588362313598, 0.5405474209853636, 0.46079452280719513, 0.019110300637026754, 0.9937356331253913, 0.025999162159973624, 0.9619689999190241, 0.6759789727821218, 0.3249898907606355, 0.9936742633817066, 0.9754127571398394, 0.02533539628934648, 0.0334508739716459, 0.9700753451777311, 0.9916932112500385, 0.9952794500911555, 0.9927782005915556, 0.01642161591612967, 0.9852969549677802, 0.9069270678356811, 0.09546600714059801, 0.9881779534007256, 0.8392270393912632, 0.16195609532112096, 0.9712835670454952, 0.005483582898661004, 0.9925285046576418, 0.0056301118100321864, 0.996529790375697, 0.0020097773523032325, 0.9988593440947066, 0.8992899383447298, 0.10376422365516112, 0.02524003455527526, 0.9843613476557352, 0.004150803911666508, 0.9961929387999618, 0.9010400357443215, 0.09654000382974873, 0.029821395405163813, 0.9841060483704058, 0.9424445432626256, 0.057700686322201565, 0.9714183641067129, 0.007153457997092713, 0.9943306615958871, 0.8106631303999441, 0.18470805502783536, 0.9997668766105187, 0.07797807341518766, 0.9134574314350555, 1.0008577194090835, 1.0059738773860625, 0.08810961297643527, 0.9163399749549268, 0.7102354595193194, 0.2794369021059617, 0.006222203225660767, 0.9955525161057227, 0.9183812139414168, 0.07064470876472437, 0.9943658835902377, 0.0127482805588492, 0.9849383170301743, 0.8329357548638329, 0.1694106620062033, 0.9934193200163774, 0.0033386674163716616, 0.9982615574951268, 0.005490489419963269, 0.999269074433315, 0.037411704645315715, 0.9727043207782086, 0.15274424916211396, 0.8459681492055543, 0.5728099660339657, 0.4259356157688463, 0.031337432194924304, 0.9714603980426535, 0.9773035183692312, 0.9787661410773671, 0.10329173339842766, 0.8978435287709482, 0.5574505436902633, 0.44488841467588314, 0.02176321134881814, 0.9793445106968163, 0.992037743030555, 0.996965725727516, 0.9888987082066826, 0.680656253032428, 0.31669422884147697, 0.9936954901248681, 0.9906143475276167, 0.9830570362660696, 0.983891274014738, 0.9879407895417627, 0.015934528863576818, 0.018166412180755386, 0.9809862577607907, 0.008225443031463801, 0.9952786068071199, 0.9672470590290154, 0.027829233838504556, 0.9740231843476594, 0.9905140289036433, 0.02830040082581838, 0.8767660283939473, 0.1252522897705639, 0.027883749291596913, 0.9712839336572924], \"Term\": [\"agreement\", \"also\", \"base\", \"base\", \"board\", \"business\", \"business\", \"capital\", \"capital\", \"carry\", \"company\", \"company\", \"compare\", \"compare\", \"construction\", \"construction\", \"correspond\", \"correspond\", \"corresponding\", \"corresponding\", \"cost\", \"country\", \"customer\", \"deal\", \"decrease\", \"decrease\", \"drop\", \"drop\", \"early\", \"early\", \"earning\", \"earning\", \"eps\", \"eps\", \"equipment\", \"equipment\", \"eur\", \"eur\", \"euro\", \"euro\", \"exchange\", \"exchange\", \"exclude\", \"exclude\", \"fall\", \"fall\", \"finland\", \"finland\", \"finnish\", \"finnish\", \"first\", \"first\", \"group\", \"group\", \"half\", \"half\", \"hel\", \"hel\", \"helsinki\", \"helsinki\", \"hold\", \"include\", \"include\", \"item\", \"item\", \"lead\", \"long\", \"lose\", \"loss\", \"loss\", \"make\", \"make\", \"manufacture\", \"market\", \"market\", \"measure\", \"million\", \"million\", \"mln\", \"mln\", \"mn\", \"mn\", \"mobile\", \"mobile\", \"month\", \"month\", \"net\", \"net\", \"new\", \"new\", \"news\", \"news\", \"nokia\", \"nokia\", \"offer\", \"operating\", \"operating\", \"operation\", \"operation\", \"oy\", \"oyj\", \"oyj\", \"paper\", \"part\", \"per\", \"per\", \"percent\", \"percent\", \"period\", \"period\", \"plant\", \"plant\", \"price\", \"price\", \"printing\", \"product\", \"product\", \"production\", \"profit\", \"profit\", \"quarter\", \"quarter\", \"recur\", \"recur\", \"report\", \"report\", \"result\", \"result\", \"rise\", \"rise\", \"route\", \"russia\", \"sale\", \"sale\", \"say\", \"say\", \"second\", \"second\", \"sell\", \"service\", \"set\", \"share\", \"share\", \"start\", \"stock\", \"structure\", \"take\", \"term\", \"term\", \"third\", \"third\", \"total\", \"total\", \"transaction\", \"usd\", \"usd\", \"use\", \"use\", \"well\", \"well\", \"year\", \"year\"]}, \"R\": 30, \"lambda.step\": 0.01, \"plot.opts\": {\"xlab\": \"PC1\", \"ylab\": \"PC2\"}, \"topic.order\": [2, 1]};\n",
              "\n",
              "function LDAvis_load_lib(url, callback){\n",
              "  var s = document.createElement('script');\n",
              "  s.src = url;\n",
              "  s.async = true;\n",
              "  s.onreadystatechange = s.onload = callback;\n",
              "  s.onerror = function(){console.warn(\"failed to load library \" + url);};\n",
              "  document.getElementsByTagName(\"head\")[0].appendChild(s);\n",
              "}\n",
              "\n",
              "if(typeof(LDAvis) !== \"undefined\"){\n",
              "   // already loaded: just create the visualization\n",
              "   !function(LDAvis){\n",
              "       new LDAvis(\"#\" + \"ldavis_el6795136222686923792655355155\", ldavis_el6795136222686923792655355155_data);\n",
              "   }(LDAvis);\n",
              "}else if(typeof define === \"function\" && define.amd){\n",
              "   // require.js is available: use it to load d3/LDAvis\n",
              "   require.config({paths: {d3: \"https://d3js.org/d3.v5\"}});\n",
              "   require([\"d3\"], function(d3){\n",
              "      window.d3 = d3;\n",
              "      LDAvis_load_lib(\"https://cdn.jsdelivr.net/gh/bmabey/pyLDAvis@3.4.0/pyLDAvis/js/ldavis.v3.0.0.js\", function(){\n",
              "        new LDAvis(\"#\" + \"ldavis_el6795136222686923792655355155\", ldavis_el6795136222686923792655355155_data);\n",
              "      });\n",
              "    });\n",
              "}else{\n",
              "    // require.js not available: dynamically load d3 & LDAvis\n",
              "    LDAvis_load_lib(\"https://d3js.org/d3.v5.js\", function(){\n",
              "         LDAvis_load_lib(\"https://cdn.jsdelivr.net/gh/bmabey/pyLDAvis@3.4.0/pyLDAvis/js/ldavis.v3.0.0.js\", function(){\n",
              "                 new LDAvis(\"#\" + \"ldavis_el6795136222686923792655355155\", ldavis_el6795136222686923792655355155_data);\n",
              "            })\n",
              "         });\n",
              "}\n",
              "</script>"
            ]
          },
          "metadata": {},
          "execution_count": 18
        }
      ]
    }
  ]
}