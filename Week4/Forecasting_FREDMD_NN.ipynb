{
 "cells": [
  {
   "metadata": {},
   "cell_type": "markdown",
   "source": "# Return Prediction with High-Dimensional Data",
   "id": "b1b4eba7fe714288"
  },
  {
   "metadata": {},
   "cell_type": "markdown",
   "source": [
    "#### Equity premium prediction with the FRED-MD dataset\n",
    "\n",
    "https://www.stlouisfed.org/research/economists/mccracken/fred-databases"
   ],
   "id": "313207146497f3ad"
  },
  {
   "cell_type": "code",
   "id": "initial_id",
   "metadata": {
    "collapsed": true,
    "ExecuteTime": {
     "end_time": "2025-03-23T22:23:46.653689Z",
     "start_time": "2025-03-23T22:23:27.490454Z"
    }
   },
   "source": [
    "# Import necessary libraries\n",
    "import random\n",
    "\n",
    "import pandas as pd\n",
    "import numpy as np\n",
    "import matplotlib.pyplot as plt\n",
    "\n",
    "from sklearn.linear_model import LinearRegression, Lasso, LassoCV\n",
    "from sklearn.decomposition import PCA\n",
    "from sklearn.preprocessing import StandardScaler\n",
    "\n",
    "from sklearn.metrics import mean_squared_error, mean_absolute_error\n",
    "\n",
    "import statsmodels.api as sm\n",
    "\n",
    "import tensorflow as tf\n",
    "from tensorflow.keras.models import Sequential\n",
    "from tensorflow.keras.layers import Dense, Activation\n",
    "from tensorflow.keras.utils import plot_model\n",
    "\n",
    "import ssl\n",
    "ssl._create_default_https_context = ssl._create_stdlib_context\n"
   ],
   "outputs": [
    {
     "name": "stderr",
     "output_type": "stream",
     "text": [
      "2025-03-24 11:23:40.853575: I tensorflow/core/platform/cpu_feature_guard.cc:182] This TensorFlow binary is optimized to use available CPU instructions in performance-critical operations.\n",
      "To enable the following instructions: AVX2 AVX512F AVX512_VNNI FMA, in other operations, rebuild TensorFlow with the appropriate compiler flags.\n"
     ]
    }
   ],
   "execution_count": 1
  },
  {
   "cell_type": "code",
   "id": "b35008a0a63d3697",
   "metadata": {
    "collapsed": false,
    "ExecuteTime": {
     "end_time": "2025-03-23T22:23:46.669935Z",
     "start_time": "2025-03-23T22:23:46.663423Z"
    }
   },
   "source": [
    "# Setting a seed for reproducibility\n",
    "np.random.seed(0)\n",
    "random.seed(0)"
   ],
   "outputs": [],
   "execution_count": 2
  },
  {
   "cell_type": "markdown",
   "id": "67494e210a44b884",
   "metadata": {
    "collapsed": false
   },
   "source": [
    "## Preprocessing"
   ]
  },
  {
   "cell_type": "markdown",
   "id": "37110664241d4441",
   "metadata": {
    "collapsed": false
   },
   "source": [
    "#### Step 1: Download the Data"
   ]
  },
  {
   "cell_type": "code",
   "id": "d2a44823a2244164",
   "metadata": {
    "collapsed": false,
    "ExecuteTime": {
     "end_time": "2025-03-23T22:23:47.139817Z",
     "start_time": "2025-03-23T22:23:47.131760Z"
    }
   },
   "source": [
    "# Retrieve the data\n",
    "def load_data(fred_path: str):\n",
    "    \"\"\"\n",
    "    Function to load data either from a local file or from FRED if the file doesn't exist locally.\n",
    "\n",
    "    Args:\n",
    "    fred_path (str): URL to fetch the dataset from FRED.\n",
    "\n",
    "    Returns:\n",
    "    DataFrame: Loaded dataset.\n",
    "    \"\"\"\n",
    "    \n",
    "    print(\"Be patient: loading from FRED (2 minutes)\")\n",
    "    df = pd.read_csv(fred_path,)[:-3]\n",
    "    print(\"Done\")\n",
    "\n",
    "    tcodes = df.iloc[0, 1:]  # data tickers\n",
    "    df.drop(0, inplace=True) # Drop unnecessary row\n",
    "\n",
    "    # Set index to date and format it as datetime\n",
    "    df = df.set_index(\"sasdate\", drop=True)\n",
    "    df.index = pd.to_datetime(df.index, format='%m/%d/%Y')\n",
    "\n",
    "    return df, tcodes"
   ],
   "outputs": [],
   "execution_count": 3
  },
  {
   "cell_type": "markdown",
   "id": "83375add4b2bbc83",
   "metadata": {
    "collapsed": false
   },
   "source": [
    "#### Step 2: Transform the Data"
   ]
  },
  {
   "cell_type": "code",
   "id": "e43941aaaea62968",
   "metadata": {
    "collapsed": false,
    "ExecuteTime": {
     "end_time": "2025-03-23T22:23:47.166057Z",
     "start_time": "2025-03-23T22:23:47.153251Z"
    }
   },
   "source": [
    "def transxf(x, tcode):\n",
    "    \"\"\"\n",
    "    DESCRIPTION:\n",
    "    This function transforms a single series (in a column vector)\n",
    "    as specified by a given transformation code.\n",
    "\n",
    "    INPUT:\n",
    "        x      : Series (in a column vector) to be transformed\n",
    "        tcode  : Transformation code (1-7)\n",
    "\n",
    "    OUTPUT:\n",
    "        result : Transformed series (as a column vector)\n",
    "\n",
    "    \"\"\"\n",
    "    # Number of observations (including missing values)\n",
    "    n = x.size\n",
    "\n",
    "    # Value close to zero\n",
    "    small = 1e-6\n",
    "\n",
    "    # Allocate output variables\n",
    "    y = np.nan * np.ones(n)\n",
    "    y1 = np.nan * np.ones(n)\n",
    "\n",
    "    # Initialize result to ensure it's always defined\n",
    "    result = np.nan * np.ones(n)\n",
    "\n",
    "    # Transformation logic\n",
    "    if tcode == 1:  # No transformation: x(t)\n",
    "        result = x\n",
    "\n",
    "    elif tcode == 2:  # First difference: x(t) - x(t-1)\n",
    "        y[1:] = x[1:] - x[:-1]\n",
    "        result = y\n",
    "\n",
    "    elif tcode == 3:  # Second difference: (x(t) - x(t-1)) - (x(t-1) - x(t-2))\n",
    "        y[2:] = x[2:] - 2 * x[1:-1] + x[:-2]\n",
    "        result = y\n",
    "\n",
    "    elif tcode == 4:  # Natural log: ln(x)\n",
    "        if np.min(x) < small:\n",
    "            result = np.nan\n",
    "        else:\n",
    "            result = np.log(x)\n",
    "\n",
    "    elif tcode == 5:  # First difference of natural log: ln(x) - ln(x-1)\n",
    "        if np.min(x[pd.notnull(x)]) > small:\n",
    "            log_x = np.log(x)\n",
    "            y[1:] = log_x[1:] - log_x[:-1]\n",
    "            result = y\n",
    "\n",
    "    elif tcode == 6:  # Second difference of natural log\n",
    "        if np.min(x[pd.notnull(x)]) > small:\n",
    "            log_x = np.log(x)\n",
    "            y[2:] = log_x[2:] - 2 * log_x[1:-1] + log_x[:-2]\n",
    "            result = y\n",
    "\n",
    "    elif tcode == 7:  # First difference of percent change\n",
    "        y1[1:] = (x[1:] - x[:-1]) / x[:-1]\n",
    "        y[2:] = y1[2:] - y1[1:-1]\n",
    "        result = y\n",
    "\n",
    "    return result"
   ],
   "outputs": [],
   "execution_count": 4
  },
  {
   "cell_type": "markdown",
   "id": "a3154f3cc9872c27",
   "metadata": {
    "collapsed": false
   },
   "source": [
    "#### Step 3: Define the Target Variable "
   ]
  },
  {
   "cell_type": "code",
   "id": "5a5a53443c1c6ea9",
   "metadata": {
    "collapsed": false,
    "ExecuteTime": {
     "end_time": "2025-03-23T22:23:47.188918Z",
     "start_time": "2025-03-23T22:23:47.181840Z"
    }
   },
   "source": [
    "# Define the target variable (S&P 500 Returns)\n",
    "def preprocess_data(df):\n",
    "    \"\"\"\n",
    "    Preprocess the data by creating the target variable (S&P 500 log returns) and removing NaNs.\n",
    "\n",
    "    Args:\n",
    "    df (DataFrame): Data containing S&P 500 returns.\n",
    "\n",
    "    Returns:\n",
    "    DataFrame: Processed data with target variable.\n",
    "    \"\"\"\n",
    "    df['Target'] = df['S&P 500'].shift(periods=-1)\n",
    "    df.drop(['S&P 500', 'VIXCLSx'], axis=1, inplace=True)\n",
    "    df = df.apply(lambda x: x.fillna(x.rolling(window=6, min_periods=1).mean()))\n",
    "    df.dropna(inplace=True)\n",
    "\n",
    "    return df"
   ],
   "outputs": [],
   "execution_count": 5
  },
  {
   "cell_type": "markdown",
   "id": "b01b6d09b3fd7aa1",
   "metadata": {
    "collapsed": false
   },
   "source": [
    "## Estimating the Models"
   ]
  },
  {
   "metadata": {
    "ExecuteTime": {
     "end_time": "2025-03-23T22:23:47.205706Z",
     "start_time": "2025-03-23T22:23:47.201075Z"
    }
   },
   "cell_type": "code",
   "source": [
    "def neural_netork(input_dim):\n",
    "  model = Sequential()\n",
    "\n",
    "  model.add(Dense(16, input_shape=(input_dim,), activation='relu'))\n",
    "  model.add(Dense(8, activation='relu'))\n",
    "  model.add(Dense(4, activation='relu'))\n",
    "\n",
    "  # A single Dense layer (perceptron) with 1 unit and a linear activation function\n",
    "  model.add(Dense(1, activation='linear'))\n",
    "\n",
    "  # Compile the model\n",
    "  # The optimizer is set to 'adam', and the loss function to 'mean_squared_error'\n",
    "  model.compile(optimizer=tf.keras.optimizers.Adam(learning_rate=0.001),\n",
    "                loss='mean_squared_error'\n",
    "                )\n",
    "\n",
    "  return model"
   ],
   "id": "5e50f3eee43d3a25",
   "outputs": [],
   "execution_count": 6
  },
  {
   "cell_type": "code",
   "id": "c4f65666d1b0a681",
   "metadata": {
    "collapsed": false,
    "ExecuteTime": {
     "end_time": "2025-03-23T22:23:47.220427Z",
     "start_time": "2025-03-23T22:23:47.215028Z"
    }
   },
   "source": [
    "# Estimating the Forecasting Models\n",
    "def train_models(train_data_scaled, train_pca, alpha, input_dim):\n",
    "    \"\"\"\n",
    "    Train multiple forecasting models (OLS, PCA-OLS, LASSO).\n",
    "\n",
    "    Args:\n",
    "    train_data_scaled (DataFrame): Scaled training data.\n",
    "    train_pca (DataFrame): Training data after applying PCA.\n",
    "    input_dim (int): Input dimension for the neural network model.\n",
    "\n",
    "    Returns:\n",
    "    Dict: Trained models.\n",
    "    \"\"\"\n",
    "    models = {\n",
    "        'ols': LinearRegression(fit_intercept=True).fit(train_data_scaled.drop(\"Target\", axis=1),\n",
    "                                                        train_data_scaled[\"Target\"]),\n",
    "        'ols_pca': LinearRegression(fit_intercept=True).fit(train_pca, train_data_scaled[\"Target\"]),\n",
    "        'lasso': Lasso(alpha=alpha, fit_intercept=True).fit(train_data_scaled.drop(\"Target\", axis=1),\n",
    "                                                            train_data_scaled['Target'])\n",
    "    }\n",
    "\n",
    "    # Neural Network training\n",
    "    ann_model = neural_netork(input_dim)\n",
    "\n",
    "    # Train the neural network model\n",
    "    history = ann_model.fit(\n",
    "        train_data_scaled.drop(\"Target\", axis=1),\n",
    "        train_data_scaled[\"Target\"],\n",
    "        epochs=10,\n",
    "        batch_size=16,\n",
    "        validation_split=0.2,\n",
    "        verbose=0,\n",
    "        shuffle=False\n",
    "    )\n",
    "\n",
    "    # Add the trained ANN model to the models dictionary\n",
    "    models['ann'] = ann_model\n",
    "\n",
    "    return models, history"
   ],
   "outputs": [],
   "execution_count": 7
  },
  {
   "cell_type": "markdown",
   "id": "d08bb56a101c199b",
   "metadata": {
    "collapsed": false
   },
   "source": [
    "## Generating the Forecasts"
   ]
  },
  {
   "cell_type": "code",
   "id": "7abb9812e84c84f2",
   "metadata": {
    "collapsed": false,
    "ExecuteTime": {
     "end_time": "2025-03-23T22:23:47.234073Z",
     "start_time": "2025-03-23T22:23:47.229661Z"
    }
   },
   "source": [
    "# Forecasts from the trained models\n",
    "def generate_forecasts(models, test_data_scaled, test_pca):\n",
    "    \"\"\"\n",
    "    Generate forecasts from the trained models.\n",
    "\n",
    "    Args:\n",
    "    models (Dict): Dictionary of trained models.\n",
    "    test_data_scaled (DataFrame): Scaled test data.\n",
    "    test_pca (DataFrame): Test data after applying PCA.\n",
    "\n",
    "    Returns:\n",
    "    Dict: Forecasts from each model.\n",
    "    \"\"\"\n",
    "\n",
    "    forecasts = {\n",
    "        'ols': models['ols'].predict(test_data_scaled.drop(\"Target\", axis=1)),\n",
    "        'ols_pca': models['ols_pca'].predict(test_pca),\n",
    "        'lasso': models['lasso'].predict(test_data_scaled.drop(\"Target\", axis=1)),\n",
    "        'ann': models['ann'].predict(test_data_scaled.drop(\"Target\", axis=1))\n",
    "    }\n",
    "\n",
    "    return forecasts"
   ],
   "outputs": [],
   "execution_count": 8
  },
  {
   "cell_type": "markdown",
   "id": "800ca6a256f0ce12",
   "metadata": {
    "collapsed": false
   },
   "source": [
    "## Evaluating the Forecasts"
   ]
  },
  {
   "cell_type": "code",
   "id": "ad151484a317fd0f",
   "metadata": {
    "collapsed": false,
    "ExecuteTime": {
     "end_time": "2025-03-23T22:23:47.247833Z",
     "start_time": "2025-03-23T22:23:47.243221Z"
    }
   },
   "source": [
    "# Evaluation of the models\n",
    "def evaluate_models(forecast_results, actual_values):\n",
    "    \"\"\"\n",
    "    Evaluate the models' performance using Mean Squared Error and Mean Absolute Error.\n",
    "\n",
    "    Args:\n",
    "    forecast_results (Dict): Forecasts generated by each model.\n",
    "    actual_values (List): Actual target values.\n",
    "\n",
    "    Returns:\n",
    "    None\n",
    "    \"\"\"\n",
    "\n",
    "    target = np.array(actual_values)\n",
    "    # Iterate through all models\n",
    "    for model_name, forecast_list in list(forecast_results.items()):\n",
    "        forecast = np.array(forecast_list)\n",
    "        mse = mean_squared_error(target, forecast)\n",
    "        mae = mean_absolute_error(target, forecast)\n",
    "        print(f\"{model_name}: MSE = {mse}, MAE = {mae}\", len(forecast_list))"
   ],
   "outputs": [],
   "execution_count": 9
  },
  {
   "cell_type": "code",
   "id": "b51d5f553d19bedb",
   "metadata": {
    "collapsed": false,
    "ExecuteTime": {
     "end_time": "2025-03-23T22:23:47.262277Z",
     "start_time": "2025-03-23T22:23:47.257489Z"
    }
   },
   "source": [
    "# Visualize the forecasts\n",
    "def plot_forecasts(forecast_results, actual_values, test_indices):\n",
    "    \"\"\"\n",
    "    Plot the forecasts alongside the observed values.\n",
    "\n",
    "    Args:\n",
    "    forecast_results (Dict): Forecasts generated by each model.\n",
    "    actual_values (List): Actual target values.\n",
    "    test_indices (List): Indices (dates) corresponding to the test data.\n",
    "\n",
    "    Returns:\n",
    "    None\n",
    "    \"\"\"\n",
    "\n",
    "    plt.figure(figsize=(12,6))\n",
    "    plt.plot(test_indices, actual_values, linewidth=1, color='black', label='Observed')\n",
    "    for model_name, forecast_list in list(forecast_results.items()):\n",
    "            plt.plot(test_indices, forecast_list, '--', linewidth=1, label=model_name)\n",
    "    plt.title('Return Forecasts')\n",
    "    plt.xlabel('Date')\n",
    "    plt.ylabel('Estimated Returns')\n",
    "    plt.legend()\n",
    "    plt.show()"
   ],
   "outputs": [],
   "execution_count": 10
  },
  {
   "cell_type": "markdown",
   "id": "c2e41e03cf141b4",
   "metadata": {
    "collapsed": false
   },
   "source": [
    "## Execute the Code"
   ]
  },
  {
   "cell_type": "code",
   "id": "aa2b59330ec61972",
   "metadata": {
    "collapsed": false,
    "ExecuteTime": {
     "end_time": "2025-03-23T22:42:52.130259Z",
     "start_time": "2025-03-23T22:35:27.818708Z"
    }
   },
   "source": [
    "# Define paths for the dataset\n",
    "fred_path = \"https://www.stlouisfed.org/-/media/project/frbstl/stlouisfed/research/fred-md/monthly/current.csv?sc_lang=en&hash=80445D12401C59CF716410F3F7863B64\"\n",
    "\n",
    "# Load the data\n",
    "df, tcodes = load_data(fred_path)\n",
    "\n",
    "yt = []  # Initialize output variable\n",
    "N = df.shape[1]  # Number of series kept\n",
    "\n",
    "for i in range(N):\n",
    "    dum = transxf(df.iloc[:, i].values, tcodes[i])\n",
    "    yt.append(dum)\n",
    "\n",
    "transformed_data = pd.DataFrame(yt).T\n",
    "transformed_data.columns = df.columns\n",
    "transformed_data.index = df.index\n",
    "\n",
    "# Preprocess the data\n",
    "df = preprocess_data(transformed_data)\n",
    "\n",
    "# Define initial training window size\n",
    "initial_window_size = int(120)\n",
    "\n",
    "# Initialize lists to store forecasts and actual values\n",
    "forecast_results = {\n",
    "    'ols': [],\n",
    "    'ols_pca': [],\n",
    "    'lasso': [],\n",
    "    'ann': []\n",
    "}\n",
    "\n",
    "find_alpha = False\n",
    "\n",
    "actual_values = []\n",
    "test_indices = []\n",
    "\n",
    "\n",
    "# Loop over the time steps\n",
    "for t in range(initial_window_size, len(df)-1):\n",
    "\n",
    "    # Get training data up to time t\n",
    "    train_data = df.iloc[:t].copy()\n",
    "\n",
    "    # Get test data at time t+1\n",
    "    test_data = df.iloc[t:t+1].copy()\n",
    "\n",
    "    # Check for NaN in train_data or test_data, skip if necessary\n",
    "    if train_data.isnull().values.any() or test_data.isnull().values.any():\n",
    "        continue  # Skip this iteration if there are NaN values\n",
    "\n",
    "    # Scaling\n",
    "    scaler = StandardScaler()\n",
    "    train_data_scaled = pd.DataFrame(scaler.fit_transform(train_data), index=train_data.index, columns=train_data.columns)\n",
    "    test_data_scaled = pd.DataFrame(scaler.transform(test_data), index=test_data.index, columns=test_data.columns)\n",
    "\n",
    "    # Apply PCA\n",
    "    pca = PCA(n_components=4, whiten=True, svd_solver='full')\n",
    "    pca.fit(train_data_scaled.drop(\"Target\", axis=1))\n",
    "\n",
    "    train_pca = pd.DataFrame(pca.transform(train_data_scaled.drop(\"Target\", axis=1)), index=train_data_scaled.index)\n",
    "    test_pca = pd.DataFrame(pca.transform(test_data_scaled.drop(\"Target\", axis=1)), index=test_data_scaled.index)\n",
    "\n",
    "    # Get input dimension for neural network\n",
    "    input_dim = len(train_data_scaled.columns) - 1  # Exclude the target column\n",
    "\n",
    "    # Find lasso alpha via cv\n",
    "    if find_alpha:\n",
    "        alpha = float(LassoCV(cv=3).fit(train_data_scaled.drop(\"Target\", axis=1), train_data_scaled['Target']).alpha_)\n",
    "    else:\n",
    "        alpha = 0.005\n",
    "\n",
    "    # Train models\n",
    "    models, history = train_models(train_data_scaled, train_pca, alpha, input_dim)\n",
    "\n",
    "    # Generate forecasts\n",
    "    test_forecasts = generate_forecasts(models, test_data_scaled, test_pca)\n",
    "\n",
    "    # Store forecasts\n",
    "    for model_name in forecast_results.keys():\n",
    "        forecast_results[model_name].append(test_forecasts[model_name][0])\n",
    "\n",
    "    # Store actual value\n",
    "    actual_values.append(test_data_scaled[\"Target\"].values[0])\n",
    "\n",
    "    # Store test index\n",
    "    test_indices.append(test_data.index[0])\n",
    "\n",
    "# Evaluate models\n",
    "evaluate_models(forecast_results, actual_values)\n",
    "\n",
    "# Plot forecasts\n",
    "plot_forecasts(forecast_results, actual_values, test_indices)"
   ],
   "outputs": [
    {
     "name": "stdout",
     "output_type": "stream",
     "text": [
      "Be patient: loading from FRED (2 minutes)\n",
      "Done\n"
     ]
    },
    {
     "name": "stderr",
     "output_type": "stream",
     "text": [
      "/var/folders/kz/18_j95hs0qg31r0hxnhd6_300000gn/T/ipykernel_1616/3778542039.py:11: FutureWarning: Series.__getitem__ treating keys as positions is deprecated. In a future version, integer keys will always be treated as labels (consistent with DataFrame behavior). To access a value by position, use `ser.iloc[pos]`\n",
      "  dum = transxf(df.iloc[:, i].values, tcodes[i])\n"
     ]
    },
    {
     "name": "stdout",
     "output_type": "stream",
     "text": [
      "1/1 [==============================] - 0s 49ms/step\n",
      "1/1 [==============================] - 0s 57ms/step\n",
      "1/1 [==============================] - 0s 50ms/step\n",
      "1/1 [==============================] - 0s 66ms/step\n"
     ]
    },
    {
     "name": "stderr",
     "output_type": "stream",
     "text": [
      "/Users/justincase/PycharmProjects/tf_test/.venv/lib/python3.11/site-packages/sklearn/linear_model/_coordinate_descent.py:695: ConvergenceWarning: Objective did not converge. You might want to increase the number of iterations, check the scale of the features or consider increasing regularisation. Duality gap: 1.899e-02, tolerance: 1.240e-02\n",
      "  model = cd_fast.enet_coordinate_descent(\n"
     ]
    },
    {
     "name": "stdout",
     "output_type": "stream",
     "text": [
      "1/1 [==============================] - 0s 58ms/step\n"
     ]
    },
    {
     "name": "stderr",
     "output_type": "stream",
     "text": [
      "/Users/justincase/PycharmProjects/tf_test/.venv/lib/python3.11/site-packages/sklearn/linear_model/_coordinate_descent.py:695: ConvergenceWarning: Objective did not converge. You might want to increase the number of iterations, check the scale of the features or consider increasing regularisation. Duality gap: 3.032e-02, tolerance: 1.250e-02\n",
      "  model = cd_fast.enet_coordinate_descent(\n"
     ]
    },
    {
     "name": "stdout",
     "output_type": "stream",
     "text": [
      "1/1 [==============================] - 0s 47ms/step\n"
     ]
    },
    {
     "name": "stderr",
     "output_type": "stream",
     "text": [
      "/Users/justincase/PycharmProjects/tf_test/.venv/lib/python3.11/site-packages/sklearn/linear_model/_coordinate_descent.py:695: ConvergenceWarning: Objective did not converge. You might want to increase the number of iterations, check the scale of the features or consider increasing regularisation. Duality gap: 1.848e-02, tolerance: 1.260e-02\n",
      "  model = cd_fast.enet_coordinate_descent(\n"
     ]
    },
    {
     "name": "stdout",
     "output_type": "stream",
     "text": [
      "1/1 [==============================] - 0s 54ms/step\n"
     ]
    },
    {
     "name": "stderr",
     "output_type": "stream",
     "text": [
      "/Users/justincase/PycharmProjects/tf_test/.venv/lib/python3.11/site-packages/sklearn/linear_model/_coordinate_descent.py:695: ConvergenceWarning: Objective did not converge. You might want to increase the number of iterations, check the scale of the features or consider increasing regularisation. Duality gap: 4.858e-02, tolerance: 1.270e-02\n",
      "  model = cd_fast.enet_coordinate_descent(\n"
     ]
    },
    {
     "name": "stdout",
     "output_type": "stream",
     "text": [
      "1/1 [==============================] - 0s 48ms/step\n",
      "1/1 [==============================] - 0s 51ms/step\n",
      "1/1 [==============================] - 0s 64ms/step\n",
      "1/1 [==============================] - 0s 52ms/step\n",
      "1/1 [==============================] - 0s 57ms/step\n",
      "1/1 [==============================] - 0s 47ms/step\n",
      "1/1 [==============================] - 0s 54ms/step\n",
      "1/1 [==============================] - 0s 47ms/step\n",
      "1/1 [==============================] - 0s 56ms/step\n",
      "1/1 [==============================] - 0s 57ms/step\n",
      "1/1 [==============================] - 0s 53ms/step\n",
      "1/1 [==============================] - 0s 58ms/step\n",
      "1/1 [==============================] - 0s 50ms/step\n",
      "1/1 [==============================] - 0s 55ms/step\n",
      "1/1 [==============================] - 0s 57ms/step\n",
      "1/1 [==============================] - 0s 56ms/step\n",
      "1/1 [==============================] - 0s 60ms/step\n",
      "1/1 [==============================] - 0s 57ms/step\n",
      "1/1 [==============================] - 0s 53ms/step\n",
      "1/1 [==============================] - 0s 58ms/step\n",
      "1/1 [==============================] - 0s 51ms/step\n",
      "1/1 [==============================] - 0s 54ms/step\n",
      "1/1 [==============================] - 0s 50ms/step\n",
      "1/1 [==============================] - 0s 56ms/step\n"
     ]
    },
    {
     "name": "stderr",
     "output_type": "stream",
     "text": [
      "/Users/justincase/PycharmProjects/tf_test/.venv/lib/python3.11/site-packages/sklearn/linear_model/_coordinate_descent.py:695: ConvergenceWarning: Objective did not converge. You might want to increase the number of iterations, check the scale of the features or consider increasing regularisation. Duality gap: 1.729e-02, tolerance: 1.510e-02\n",
      "  model = cd_fast.enet_coordinate_descent(\n"
     ]
    },
    {
     "name": "stdout",
     "output_type": "stream",
     "text": [
      "1/1 [==============================] - 0s 52ms/step\n",
      "1/1 [==============================] - 0s 57ms/step\n",
      "1/1 [==============================] - 0s 51ms/step\n",
      "1/1 [==============================] - 0s 57ms/step\n",
      "1/1 [==============================] - 0s 53ms/step\n",
      "1/1 [==============================] - 0s 51ms/step\n"
     ]
    },
    {
     "name": "stderr",
     "output_type": "stream",
     "text": [
      "/Users/justincase/PycharmProjects/tf_test/.venv/lib/python3.11/site-packages/sklearn/linear_model/_coordinate_descent.py:695: ConvergenceWarning: Objective did not converge. You might want to increase the number of iterations, check the scale of the features or consider increasing regularisation. Duality gap: 3.637e-02, tolerance: 1.570e-02\n",
      "  model = cd_fast.enet_coordinate_descent(\n"
     ]
    },
    {
     "name": "stdout",
     "output_type": "stream",
     "text": [
      "1/1 [==============================] - 0s 65ms/step\n"
     ]
    },
    {
     "name": "stderr",
     "output_type": "stream",
     "text": [
      "/Users/justincase/PycharmProjects/tf_test/.venv/lib/python3.11/site-packages/sklearn/linear_model/_coordinate_descent.py:695: ConvergenceWarning: Objective did not converge. You might want to increase the number of iterations, check the scale of the features or consider increasing regularisation. Duality gap: 6.303e-02, tolerance: 1.580e-02\n",
      "  model = cd_fast.enet_coordinate_descent(\n"
     ]
    },
    {
     "name": "stdout",
     "output_type": "stream",
     "text": [
      "1/1 [==============================] - 0s 51ms/step\n"
     ]
    },
    {
     "name": "stderr",
     "output_type": "stream",
     "text": [
      "/Users/justincase/PycharmProjects/tf_test/.venv/lib/python3.11/site-packages/sklearn/linear_model/_coordinate_descent.py:695: ConvergenceWarning: Objective did not converge. You might want to increase the number of iterations, check the scale of the features or consider increasing regularisation. Duality gap: 7.247e-02, tolerance: 1.590e-02\n",
      "  model = cd_fast.enet_coordinate_descent(\n"
     ]
    },
    {
     "name": "stdout",
     "output_type": "stream",
     "text": [
      "1/1 [==============================] - 0s 53ms/step\n",
      "1/1 [==============================] - 0s 64ms/step\n",
      "1/1 [==============================] - 0s 53ms/step\n",
      "1/1 [==============================] - 0s 61ms/step\n"
     ]
    },
    {
     "name": "stderr",
     "output_type": "stream",
     "text": [
      "/Users/justincase/PycharmProjects/tf_test/.venv/lib/python3.11/site-packages/sklearn/linear_model/_coordinate_descent.py:695: ConvergenceWarning: Objective did not converge. You might want to increase the number of iterations, check the scale of the features or consider increasing regularisation. Duality gap: 5.217e-02, tolerance: 1.630e-02\n",
      "  model = cd_fast.enet_coordinate_descent(\n"
     ]
    },
    {
     "name": "stdout",
     "output_type": "stream",
     "text": [
      "1/1 [==============================] - 0s 55ms/step\n",
      "1/1 [==============================] - 0s 58ms/step\n",
      "1/1 [==============================] - 0s 57ms/step\n",
      "1/1 [==============================] - 0s 56ms/step\n",
      "1/1 [==============================] - 0s 63ms/step\n",
      "1/1 [==============================] - 0s 57ms/step\n",
      "1/1 [==============================] - 0s 53ms/step\n"
     ]
    },
    {
     "name": "stderr",
     "output_type": "stream",
     "text": [
      "/Users/justincase/PycharmProjects/tf_test/.venv/lib/python3.11/site-packages/sklearn/linear_model/_coordinate_descent.py:695: ConvergenceWarning: Objective did not converge. You might want to increase the number of iterations, check the scale of the features or consider increasing regularisation. Duality gap: 3.416e-02, tolerance: 1.700e-02\n",
      "  model = cd_fast.enet_coordinate_descent(\n"
     ]
    },
    {
     "name": "stdout",
     "output_type": "stream",
     "text": [
      "1/1 [==============================] - 0s 56ms/step\n",
      "1/1 [==============================] - 0s 59ms/step\n"
     ]
    },
    {
     "name": "stderr",
     "output_type": "stream",
     "text": [
      "/Users/justincase/PycharmProjects/tf_test/.venv/lib/python3.11/site-packages/sklearn/linear_model/_coordinate_descent.py:695: ConvergenceWarning: Objective did not converge. You might want to increase the number of iterations, check the scale of the features or consider increasing regularisation. Duality gap: 2.338e-02, tolerance: 1.720e-02\n",
      "  model = cd_fast.enet_coordinate_descent(\n"
     ]
    },
    {
     "name": "stdout",
     "output_type": "stream",
     "text": [
      "1/1 [==============================] - 0s 61ms/step\n",
      "1/1 [==============================] - 0s 55ms/step\n",
      "1/1 [==============================] - 0s 59ms/step\n",
      "1/1 [==============================] - 0s 52ms/step\n",
      "1/1 [==============================] - 0s 61ms/step\n",
      "1/1 [==============================] - 0s 68ms/step\n",
      "1/1 [==============================] - 0s 56ms/step\n",
      "1/1 [==============================] - 0s 55ms/step\n",
      "1/1 [==============================] - 0s 54ms/step\n",
      "1/1 [==============================] - 0s 57ms/step\n",
      "1/1 [==============================] - 0s 62ms/step\n",
      "1/1 [==============================] - 0s 61ms/step\n",
      "1/1 [==============================] - 0s 59ms/step\n",
      "1/1 [==============================] - 0s 52ms/step\n",
      "1/1 [==============================] - 0s 58ms/step\n",
      "1/1 [==============================] - 0s 64ms/step\n",
      "1/1 [==============================] - 0s 61ms/step\n",
      "1/1 [==============================] - 0s 64ms/step\n",
      "1/1 [==============================] - 0s 60ms/step\n",
      "1/1 [==============================] - 0s 57ms/step\n",
      "1/1 [==============================] - 0s 63ms/step\n",
      "1/1 [==============================] - 0s 61ms/step\n",
      "1/1 [==============================] - 0s 56ms/step\n",
      "1/1 [==============================] - 0s 56ms/step\n",
      "1/1 [==============================] - 0s 53ms/step\n",
      "1/1 [==============================] - 0s 59ms/step\n",
      "1/1 [==============================] - 0s 61ms/step\n",
      "1/1 [==============================] - 0s 55ms/step\n",
      "1/1 [==============================] - 0s 57ms/step\n",
      "1/1 [==============================] - 0s 55ms/step\n",
      "1/1 [==============================] - 0s 59ms/step\n"
     ]
    },
    {
     "name": "stderr",
     "output_type": "stream",
     "text": [
      "/Users/justincase/PycharmProjects/tf_test/.venv/lib/python3.11/site-packages/sklearn/linear_model/_coordinate_descent.py:695: ConvergenceWarning: Objective did not converge. You might want to increase the number of iterations, check the scale of the features or consider increasing regularisation. Duality gap: 2.075e-02, tolerance: 2.030e-02\n",
      "  model = cd_fast.enet_coordinate_descent(\n"
     ]
    },
    {
     "name": "stdout",
     "output_type": "stream",
     "text": [
      "1/1 [==============================] - 0s 57ms/step\n",
      "1/1 [==============================] - 0s 59ms/step\n",
      "1/1 [==============================] - 0s 59ms/step\n",
      "1/1 [==============================] - 0s 60ms/step\n",
      "1/1 [==============================] - 0s 66ms/step\n",
      "1/1 [==============================] - 0s 58ms/step\n",
      "1/1 [==============================] - 0s 58ms/step\n",
      "1/1 [==============================] - 0s 57ms/step\n",
      "1/1 [==============================] - 0s 60ms/step\n",
      "1/1 [==============================] - 0s 52ms/step\n",
      "1/1 [==============================] - 0s 63ms/step\n",
      "1/1 [==============================] - 0s 55ms/step\n",
      "1/1 [==============================] - 0s 65ms/step\n",
      "1/1 [==============================] - 0s 51ms/step\n",
      "1/1 [==============================] - 0s 61ms/step\n",
      "1/1 [==============================] - 0s 58ms/step\n",
      "1/1 [==============================] - 0s 59ms/step\n",
      "1/1 [==============================] - 0s 60ms/step\n",
      "1/1 [==============================] - 0s 55ms/step\n",
      "1/1 [==============================] - 0s 60ms/step\n",
      "1/1 [==============================] - 0s 63ms/step\n",
      "1/1 [==============================] - 0s 56ms/step\n",
      "1/1 [==============================] - 0s 58ms/step\n",
      "1/1 [==============================] - 0s 53ms/step\n",
      "1/1 [==============================] - 0s 54ms/step\n",
      "1/1 [==============================] - 0s 56ms/step\n",
      "1/1 [==============================] - 0s 53ms/step\n",
      "1/1 [==============================] - 0s 55ms/step\n",
      "1/1 [==============================] - 0s 56ms/step\n",
      "1/1 [==============================] - 0s 61ms/step\n",
      "1/1 [==============================] - 0s 64ms/step\n",
      "1/1 [==============================] - 0s 55ms/step\n",
      "1/1 [==============================] - 0s 52ms/step\n",
      "1/1 [==============================] - 0s 58ms/step\n",
      "1/1 [==============================] - 0s 68ms/step\n",
      "1/1 [==============================] - 0s 52ms/step\n",
      "1/1 [==============================] - 0s 51ms/step\n",
      "1/1 [==============================] - 0s 61ms/step\n",
      "1/1 [==============================] - 0s 54ms/step\n",
      "1/1 [==============================] - 0s 70ms/step\n",
      "1/1 [==============================] - 0s 58ms/step\n",
      "1/1 [==============================] - 0s 60ms/step\n",
      "1/1 [==============================] - 0s 54ms/step\n",
      "1/1 [==============================] - 0s 58ms/step\n",
      "1/1 [==============================] - 0s 52ms/step\n",
      "1/1 [==============================] - 0s 58ms/step\n",
      "1/1 [==============================] - 0s 61ms/step\n",
      "1/1 [==============================] - 0s 105ms/step\n",
      "1/1 [==============================] - 0s 84ms/step\n",
      "1/1 [==============================] - 0s 112ms/step\n",
      "1/1 [==============================] - 0s 59ms/step\n",
      "1/1 [==============================] - 0s 79ms/step\n",
      "1/1 [==============================] - 0s 74ms/step\n",
      "1/1 [==============================] - 0s 57ms/step\n",
      "1/1 [==============================] - 0s 61ms/step\n",
      "1/1 [==============================] - 0s 62ms/step\n",
      "1/1 [==============================] - 0s 59ms/step\n",
      "1/1 [==============================] - 0s 59ms/step\n",
      "1/1 [==============================] - 0s 73ms/step\n",
      "1/1 [==============================] - 0s 60ms/step\n",
      "1/1 [==============================] - 0s 57ms/step\n",
      "1/1 [==============================] - 0s 64ms/step\n",
      "1/1 [==============================] - 0s 62ms/step\n",
      "1/1 [==============================] - 0s 60ms/step\n",
      "1/1 [==============================] - 0s 68ms/step\n",
      "1/1 [==============================] - 0s 58ms/step\n",
      "1/1 [==============================] - 0s 63ms/step\n",
      "1/1 [==============================] - 0s 64ms/step\n",
      "1/1 [==============================] - 0s 55ms/step\n",
      "1/1 [==============================] - 0s 80ms/step\n",
      "1/1 [==============================] - 0s 57ms/step\n",
      "1/1 [==============================] - 0s 61ms/step\n",
      "1/1 [==============================] - 0s 61ms/step\n",
      "1/1 [==============================] - 0s 55ms/step\n",
      "1/1 [==============================] - 0s 61ms/step\n",
      "1/1 [==============================] - 0s 66ms/step\n",
      "1/1 [==============================] - 0s 66ms/step\n",
      "1/1 [==============================] - 0s 73ms/step\n",
      "1/1 [==============================] - 0s 75ms/step\n",
      "1/1 [==============================] - 0s 59ms/step\n",
      "1/1 [==============================] - 0s 90ms/step\n",
      "1/1 [==============================] - 0s 65ms/step\n",
      "1/1 [==============================] - 0s 66ms/step\n",
      "1/1 [==============================] - 0s 57ms/step\n",
      "1/1 [==============================] - 0s 61ms/step\n",
      "1/1 [==============================] - 0s 59ms/step\n",
      "1/1 [==============================] - 0s 53ms/step\n",
      "1/1 [==============================] - 0s 54ms/step\n",
      "1/1 [==============================] - 0s 58ms/step\n",
      "1/1 [==============================] - 0s 58ms/step\n",
      "1/1 [==============================] - 0s 63ms/step\n",
      "1/1 [==============================] - 0s 66ms/step\n",
      "1/1 [==============================] - 0s 57ms/step\n",
      "1/1 [==============================] - 0s 70ms/step\n",
      "1/1 [==============================] - 0s 60ms/step\n",
      "1/1 [==============================] - 0s 57ms/step\n",
      "1/1 [==============================] - 0s 60ms/step\n",
      "1/1 [==============================] - 0s 63ms/step\n",
      "1/1 [==============================] - 0s 60ms/step\n",
      "1/1 [==============================] - 0s 67ms/step\n",
      "1/1 [==============================] - 0s 68ms/step\n",
      "1/1 [==============================] - 0s 63ms/step\n",
      "1/1 [==============================] - 0s 61ms/step\n",
      "1/1 [==============================] - 0s 59ms/step\n",
      "1/1 [==============================] - 0s 54ms/step\n",
      "1/1 [==============================] - 0s 69ms/step\n",
      "1/1 [==============================] - 0s 66ms/step\n",
      "1/1 [==============================] - 0s 59ms/step\n",
      "1/1 [==============================] - 0s 58ms/step\n",
      "1/1 [==============================] - 0s 69ms/step\n",
      "1/1 [==============================] - 0s 56ms/step\n",
      "1/1 [==============================] - 0s 67ms/step\n",
      "1/1 [==============================] - 0s 79ms/step\n",
      "1/1 [==============================] - 0s 60ms/step\n",
      "1/1 [==============================] - 0s 60ms/step\n",
      "1/1 [==============================] - 0s 62ms/step\n",
      "1/1 [==============================] - 0s 55ms/step\n",
      "1/1 [==============================] - 0s 55ms/step\n",
      "1/1 [==============================] - 0s 63ms/step\n",
      "1/1 [==============================] - 0s 129ms/step\n",
      "1/1 [==============================] - 0s 57ms/step\n",
      "1/1 [==============================] - 0s 61ms/step\n",
      "1/1 [==============================] - 0s 65ms/step\n",
      "1/1 [==============================] - 0s 53ms/step\n",
      "1/1 [==============================] - 0s 64ms/step\n",
      "1/1 [==============================] - 0s 62ms/step\n",
      "1/1 [==============================] - 0s 72ms/step\n",
      "1/1 [==============================] - 0s 58ms/step\n",
      "1/1 [==============================] - 0s 62ms/step\n",
      "1/1 [==============================] - 0s 64ms/step\n",
      "1/1 [==============================] - 0s 53ms/step\n",
      "1/1 [==============================] - 0s 56ms/step\n",
      "1/1 [==============================] - 0s 55ms/step\n",
      "1/1 [==============================] - 0s 53ms/step\n",
      "1/1 [==============================] - 0s 59ms/step\n",
      "1/1 [==============================] - 0s 55ms/step\n",
      "1/1 [==============================] - 0s 54ms/step\n",
      "1/1 [==============================] - 0s 67ms/step\n",
      "1/1 [==============================] - 0s 53ms/step\n",
      "1/1 [==============================] - 0s 58ms/step\n",
      "1/1 [==============================] - 0s 51ms/step\n",
      "1/1 [==============================] - 0s 103ms/step\n",
      "1/1 [==============================] - 0s 62ms/step\n",
      "1/1 [==============================] - 0s 57ms/step\n",
      "1/1 [==============================] - 0s 73ms/step\n",
      "1/1 [==============================] - 0s 60ms/step\n",
      "1/1 [==============================] - 0s 55ms/step\n",
      "1/1 [==============================] - 0s 65ms/step\n",
      "1/1 [==============================] - 0s 66ms/step\n",
      "1/1 [==============================] - 0s 62ms/step\n",
      "1/1 [==============================] - 0s 85ms/step\n",
      "1/1 [==============================] - 0s 66ms/step\n",
      "1/1 [==============================] - 0s 83ms/step\n",
      "1/1 [==============================] - 0s 56ms/step\n",
      "1/1 [==============================] - 0s 107ms/step\n",
      "1/1 [==============================] - 0s 56ms/step\n",
      "1/1 [==============================] - 0s 81ms/step\n",
      "1/1 [==============================] - 0s 60ms/step\n",
      "1/1 [==============================] - 0s 117ms/step\n",
      "1/1 [==============================] - 0s 63ms/step\n",
      "1/1 [==============================] - 0s 75ms/step\n",
      "1/1 [==============================] - 0s 82ms/step\n",
      "1/1 [==============================] - 0s 65ms/step\n",
      "1/1 [==============================] - 0s 72ms/step\n",
      "1/1 [==============================] - 0s 60ms/step\n",
      "1/1 [==============================] - 0s 75ms/step\n",
      "1/1 [==============================] - 0s 60ms/step\n",
      "1/1 [==============================] - 0s 71ms/step\n",
      "1/1 [==============================] - 0s 62ms/step\n",
      "1/1 [==============================] - 0s 57ms/step\n",
      "1/1 [==============================] - 0s 57ms/step\n",
      "1/1 [==============================] - 0s 124ms/step\n",
      "1/1 [==============================] - 0s 69ms/step\n",
      "1/1 [==============================] - 0s 110ms/step\n",
      "1/1 [==============================] - 0s 83ms/step\n",
      "1/1 [==============================] - 0s 65ms/step\n",
      "1/1 [==============================] - 0s 66ms/step\n",
      "1/1 [==============================] - 0s 55ms/step\n",
      "1/1 [==============================] - 0s 59ms/step\n",
      "1/1 [==============================] - 0s 62ms/step\n",
      "1/1 [==============================] - 0s 58ms/step\n",
      "1/1 [==============================] - 0s 71ms/step\n",
      "1/1 [==============================] - 0s 62ms/step\n",
      "1/1 [==============================] - 0s 57ms/step\n",
      "1/1 [==============================] - 0s 70ms/step\n",
      "1/1 [==============================] - 0s 64ms/step\n",
      "1/1 [==============================] - 0s 65ms/step\n",
      "1/1 [==============================] - 0s 66ms/step\n",
      "ols: MSE = 49.978993013938656, MAE = 2.10035560655078 271\n",
      "ols_pca: MSE = 1.3297155971184755, MAE = 0.756609824890519 271\n",
      "lasso: MSE = 3.0546966327345104, MAE = 1.0645860812856878 271\n",
      "ann: MSE = 4.336720617265565, MAE = 0.9983508296700552 271\n"
     ]
    },
    {
     "data": {
      "text/plain": [
       "<Figure size 1200x600 with 1 Axes>"
      ],
      "image/png": "[encoded data removed]"
     },
     "metadata": {},
     "output_type": "display_data"
    }
   ],
   "execution_count": 16
  }
 ],
 "metadata": {
  "kernelspec": {
   "display_name": "Python 3",
   "language": "python",
   "name": "python3"
  },
  "language_info": {
   "codemirror_mode": {
    "name": "ipython",
    "version": 2
   },
   "file_extension": ".py",
   "mimetype": "text/x-python",
   "name": "python",
   "nbconvert_exporter": "python",
   "pygments_lexer": "ipython2",
   "version": "2.7.6"
  }
 },
 "nbformat": 4,
 "nbformat_minor": 5
}
