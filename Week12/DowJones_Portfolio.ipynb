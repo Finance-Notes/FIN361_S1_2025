{
 "cells": [
  {
   "cell_type": "markdown",
   "source": [
    "## Dow Jones 5-Stock Portfolio "
   ],
   "metadata": {
    "collapsed": false
   },
   "id": "a64b1201fc548ddf"
  },
  {
   "cell_type": "code",
   "execution_count": 68,
   "id": "initial_id",
   "metadata": {
    "collapsed": true,
    "ExecuteTime": {
     "end_time": "2025-06-02T10:36:47.268458Z",
     "start_time": "2025-06-02T10:36:45.389549Z"
    }
   },
   "outputs": [
    {
     "name": "stdout",
     "output_type": "stream",
     "text": [
      "Requirement already satisfied: yfinance in /Users/justincase/PycharmProjects/UoA_361/.venv/lib/python3.8/site-packages (0.2.36)\r\n",
      "Requirement already satisfied: pandas>=1.3.0 in /Users/justincase/PycharmProjects/UoA_361/.venv/lib/python3.8/site-packages (from yfinance) (2.0.3)\r\n",
      "Requirement already satisfied: numpy>=1.16.5 in /Users/justincase/PycharmProjects/UoA_361/.venv/lib/python3.8/site-packages (from yfinance) (1.24.3)\r\n",
      "Requirement already satisfied: requests>=2.31 in /Users/justincase/PycharmProjects/UoA_361/.venv/lib/python3.8/site-packages (from yfinance) (2.31.0)\r\n",
      "Requirement already satisfied: multitasking>=0.0.7 in /Users/justincase/PycharmProjects/UoA_361/.venv/lib/python3.8/site-packages (from yfinance) (0.0.11)\r\n",
      "Requirement already satisfied: lxml>=4.9.1 in /Users/justincase/PycharmProjects/UoA_361/.venv/lib/python3.8/site-packages (from yfinance) (5.1.0)\r\n",
      "Requirement already satisfied: appdirs>=1.4.4 in /Users/justincase/PycharmProjects/UoA_361/.venv/lib/python3.8/site-packages (from yfinance) (1.4.4)\r\n",
      "Requirement already satisfied: pytz>=2022.5 in /Users/justincase/PycharmProjects/UoA_361/.venv/lib/python3.8/site-packages (from yfinance) (2024.1)\r\n",
      "Requirement already satisfied: frozendict>=2.3.4 in /Users/justincase/PycharmProjects/UoA_361/.venv/lib/python3.8/site-packages (from yfinance) (2.4.0)\r\n",
      "Requirement already satisfied: peewee>=3.16.2 in /Users/justincase/PycharmProjects/UoA_361/.venv/lib/python3.8/site-packages (from yfinance) (3.17.1)\r\n",
      "Requirement already satisfied: beautifulsoup4>=4.11.1 in /Users/justincase/PycharmProjects/UoA_361/.venv/lib/python3.8/site-packages (from yfinance) (4.12.3)\r\n",
      "Requirement already satisfied: html5lib>=1.1 in /Users/justincase/PycharmProjects/UoA_361/.venv/lib/python3.8/site-packages (from yfinance) (1.1)\r\n",
      "Requirement already satisfied: soupsieve>1.2 in /Users/justincase/PycharmProjects/UoA_361/.venv/lib/python3.8/site-packages (from beautifulsoup4>=4.11.1->yfinance) (2.5)\r\n",
      "Requirement already satisfied: six>=1.9 in /Users/justincase/PycharmProjects/UoA_361/.venv/lib/python3.8/site-packages (from html5lib>=1.1->yfinance) (1.16.0)\r\n",
      "Requirement already satisfied: webencodings in /Users/justincase/PycharmProjects/UoA_361/.venv/lib/python3.8/site-packages (from html5lib>=1.1->yfinance) (0.5.1)\r\n",
      "Requirement already satisfied: python-dateutil>=2.8.2 in /Users/justincase/PycharmProjects/UoA_361/.venv/lib/python3.8/site-packages (from pandas>=1.3.0->yfinance) (2.8.2)\r\n",
      "Requirement already satisfied: tzdata>=2022.1 in /Users/justincase/PycharmProjects/UoA_361/.venv/lib/python3.8/site-packages (from pandas>=1.3.0->yfinance) (2024.1)\r\n",
      "Requirement already satisfied: charset-normalizer<4,>=2 in /Users/justincase/PycharmProjects/UoA_361/.venv/lib/python3.8/site-packages (from requests>=2.31->yfinance) (3.3.2)\r\n",
      "Requirement already satisfied: idna<4,>=2.5 in /Users/justincase/PycharmProjects/UoA_361/.venv/lib/python3.8/site-packages (from requests>=2.31->yfinance) (3.6)\r\n",
      "Requirement already satisfied: urllib3<3,>=1.21.1 in /Users/justincase/PycharmProjects/UoA_361/.venv/lib/python3.8/site-packages (from requests>=2.31->yfinance) (2.2.1)\r\n",
      "Requirement already satisfied: certifi>=2017.4.17 in /Users/justincase/PycharmProjects/UoA_361/.venv/lib/python3.8/site-packages (from requests>=2.31->yfinance) (2024.2.2)\r\n",
      "\r\n",
      "\u001B[1m[\u001B[0m\u001B[34;49mnotice\u001B[0m\u001B[1;39;49m]\u001B[0m\u001B[39;49m A new release of pip is available: \u001B[0m\u001B[31;49m23.2.1\u001B[0m\u001B[39;49m -> \u001B[0m\u001B[32;49m25.0.1\u001B[0m\r\n",
      "\u001B[1m[\u001B[0m\u001B[34;49mnotice\u001B[0m\u001B[1;39;49m]\u001B[0m\u001B[39;49m To update, run: \u001B[0m\u001B[32;49mpip install --upgrade pip\u001B[0m\r\n"
     ]
    }
   ],
   "source": [
    "!pip install yfinance"
   ]
  },
  {
   "cell_type": "code",
   "outputs": [],
   "source": [
    "# Import the yfinance library to access Yahoo Finance data.\n",
    "import yfinance as yf\n",
    "import pandas as pd\n",
    "import numpy as np\n",
    "\n",
    "import requests\n",
    "import zipfile\n",
    "import io\n",
    "\n",
    "from sklearn.linear_model import Lasso"
   ],
   "metadata": {
    "collapsed": false,
    "ExecuteTime": {
     "end_time": "2025-06-02T10:36:47.277199Z",
     "start_time": "2025-06-02T10:36:47.271556Z"
    }
   },
   "id": "acb48623c4a98a05",
   "execution_count": 69
  },
  {
   "cell_type": "markdown",
   "source": [
    "The following code uses the Britten-Jones (1999, JF) methodology to construct a portfolio using yfinance price data."
   ],
   "metadata": {
    "collapsed": false
   },
   "id": "80ae30bf090d735a"
  },
  {
   "cell_type": "code",
   "outputs": [
    {
     "data": {
      "text/plain": "                AAPL      AMGN       AXP        BA       CAT       CVX  \\\nDate                                                                     \n1985-07-01 -0.125617 -0.098439 -0.064221  0.075304  0.107245 -0.016864   \n1985-08-01 -0.056706  0.050428 -0.070204 -0.002594 -0.020583  0.023530   \n1985-09-01  0.048801  0.048012  0.006042 -0.053357 -0.017514 -0.000458   \n1985-10-01  0.167654  0.271932  0.100196  0.010959  0.003527  0.055844   \n1985-11-01  0.077465  0.057820  0.071553  0.068448  0.119625 -0.022618   \n...              ...       ...       ...       ...       ...       ...   \n2025-01-01 -0.059308  0.090822  0.067296 -0.002716  0.023646  0.029591   \n2025-02-01  0.024444  0.076333 -0.050995 -0.010765 -0.073232  0.061291   \n2025-03-01 -0.083915  0.019312 -0.112080 -0.023641 -0.042010  0.064248   \n2025-04-01 -0.044321 -0.068512 -0.009861  0.071768 -0.064272 -0.206633   \n2025-05-01 -0.055073 -0.000664  0.102028  0.123467  0.122877  0.016800   \n\n                 DIS        HD       HON       IBM  ...       MCD       MMM  \\\nDate                                                ...                       \n1985-07-01 -0.074621 -0.009478  0.045853  0.059792  ... -0.040975  0.025318   \n1985-08-01  0.025497 -0.100084 -0.072601 -0.036826  ... -0.013974 -0.044736   \n1985-09-01 -0.063513 -0.065241  0.066982 -0.013410  ...  0.003861  0.004891   \n1985-10-01  0.095872 -0.011297 -0.011332  0.047300  ...  0.028492  0.022765   \n1985-11-01  0.073330  0.000000  0.052717  0.073283  ...  0.116766  0.081772   \n...              ...       ...       ...       ...  ...       ...       ...   \n2025-01-01  0.019662  0.057421 -0.009653  0.151150  ...  0.001884  0.164686   \n2025-02-01  0.006524 -0.038047 -0.049620 -0.012831  ...  0.065783  0.019004   \n2025-03-01 -0.142358 -0.078957 -0.000032 -0.008447  ...  0.013018 -0.049799   \n2025-04-01 -0.081775 -0.010181 -0.005921 -0.027893  ...  0.028795 -0.055653   \n2025-05-01  0.217432  0.021407  0.079106  0.075498  ... -0.018311  0.070634   \n\n                 MRK       NKE        PG       TRV       UNH        VZ  \\\nDate                                                                     \n1985-07-01  0.009661  0.045458  0.019846 -0.012142  0.032787 -0.043719   \n1985-08-01  0.011014  0.105365  0.015652  0.001744 -0.101782  0.029229   \n1985-09-01 -0.045870  0.067655 -0.019759 -0.057363 -0.303680 -0.057885   \n1985-10-01  0.073448  0.009305  0.117044  0.079759  0.216668  0.074154   \n1985-11-01  0.109643 -0.018696  0.068930  0.051464  0.038222  0.090673   \n...              ...       ...       ...       ...       ...       ...   \n2025-01-01  0.001316  0.021215 -0.009951  0.021829  0.073738 -0.015118   \n2025-02-01 -0.068798  0.032370  0.052287  0.052864 -0.132939  0.107576   \n2025-03-01 -0.027363 -0.224151 -0.019869  0.022833  0.097784  0.051108   \n2025-04-01 -0.043536 -0.113207 -0.047157  0.002834 -0.237087 -0.029078   \n2025-05-01 -0.103276  0.071661  0.050256  0.042872 -0.309534  0.013662   \n\n                 WBA       WMT  \nDate                            \n1985-07-01 -0.114959 -0.097209  \n1985-08-01  0.039806  0.044453  \n1985-09-01 -0.098353 -0.079066  \n1985-10-01  0.072950  0.104312  \n1985-11-01  0.100322  0.111475  \n...              ...       ...  \n2025-01-01  0.096965  0.085121  \n2025-02-01  0.038173  0.004574  \n2025-03-01  0.044859 -0.116225  \n2025-04-01 -0.018067  0.105080  \n2025-05-01  0.025204  0.017417  \n\n[479 rows x 24 columns]",
      "text/html": "<div>\n<style scoped>\n    .dataframe tbody tr th:only-of-type {\n        vertical-align: middle;\n    }\n\n    .dataframe tbody tr th {\n        vertical-align: top;\n    }\n\n    .dataframe thead th {\n        text-align: right;\n    }\n</style>\n<table border=\"1\" class=\"dataframe\">\n  <thead>\n    <tr style=\"text-align: right;\">\n      <th></th>\n      <th>AAPL</th>\n      <th>AMGN</th>\n      <th>AXP</th>\n      <th>BA</th>\n      <th>CAT</th>\n      <th>CVX</th>\n      <th>DIS</th>\n      <th>HD</th>\n      <th>HON</th>\n      <th>IBM</th>\n      <th>...</th>\n      <th>MCD</th>\n      <th>MMM</th>\n      <th>MRK</th>\n      <th>NKE</th>\n      <th>PG</th>\n      <th>TRV</th>\n      <th>UNH</th>\n      <th>VZ</th>\n      <th>WBA</th>\n      <th>WMT</th>\n    </tr>\n    <tr>\n      <th>Date</th>\n      <th></th>\n      <th></th>\n      <th></th>\n      <th></th>\n      <th></th>\n      <th></th>\n      <th></th>\n      <th></th>\n      <th></th>\n      <th></th>\n      <th></th>\n      <th></th>\n      <th></th>\n      <th></th>\n      <th></th>\n      <th></th>\n      <th></th>\n      <th></th>\n      <th></th>\n      <th></th>\n      <th></th>\n    </tr>\n  </thead>\n  <tbody>\n    <tr>\n      <th>1985-07-01</th>\n      <td>-0.125617</td>\n      <td>-0.098439</td>\n      <td>-0.064221</td>\n      <td>0.075304</td>\n      <td>0.107245</td>\n      <td>-0.016864</td>\n      <td>-0.074621</td>\n      <td>-0.009478</td>\n      <td>0.045853</td>\n      <td>0.059792</td>\n      <td>...</td>\n      <td>-0.040975</td>\n      <td>0.025318</td>\n      <td>0.009661</td>\n      <td>0.045458</td>\n      <td>0.019846</td>\n      <td>-0.012142</td>\n      <td>0.032787</td>\n      <td>-0.043719</td>\n      <td>-0.114959</td>\n      <td>-0.097209</td>\n    </tr>\n    <tr>\n      <th>1985-08-01</th>\n      <td>-0.056706</td>\n      <td>0.050428</td>\n      <td>-0.070204</td>\n      <td>-0.002594</td>\n      <td>-0.020583</td>\n      <td>0.023530</td>\n      <td>0.025497</td>\n      <td>-0.100084</td>\n      <td>-0.072601</td>\n      <td>-0.036826</td>\n      <td>...</td>\n      <td>-0.013974</td>\n      <td>-0.044736</td>\n      <td>0.011014</td>\n      <td>0.105365</td>\n      <td>0.015652</td>\n      <td>0.001744</td>\n      <td>-0.101782</td>\n      <td>0.029229</td>\n      <td>0.039806</td>\n      <td>0.044453</td>\n    </tr>\n    <tr>\n      <th>1985-09-01</th>\n      <td>0.048801</td>\n      <td>0.048012</td>\n      <td>0.006042</td>\n      <td>-0.053357</td>\n      <td>-0.017514</td>\n      <td>-0.000458</td>\n      <td>-0.063513</td>\n      <td>-0.065241</td>\n      <td>0.066982</td>\n      <td>-0.013410</td>\n      <td>...</td>\n      <td>0.003861</td>\n      <td>0.004891</td>\n      <td>-0.045870</td>\n      <td>0.067655</td>\n      <td>-0.019759</td>\n      <td>-0.057363</td>\n      <td>-0.303680</td>\n      <td>-0.057885</td>\n      <td>-0.098353</td>\n      <td>-0.079066</td>\n    </tr>\n    <tr>\n      <th>1985-10-01</th>\n      <td>0.167654</td>\n      <td>0.271932</td>\n      <td>0.100196</td>\n      <td>0.010959</td>\n      <td>0.003527</td>\n      <td>0.055844</td>\n      <td>0.095872</td>\n      <td>-0.011297</td>\n      <td>-0.011332</td>\n      <td>0.047300</td>\n      <td>...</td>\n      <td>0.028492</td>\n      <td>0.022765</td>\n      <td>0.073448</td>\n      <td>0.009305</td>\n      <td>0.117044</td>\n      <td>0.079759</td>\n      <td>0.216668</td>\n      <td>0.074154</td>\n      <td>0.072950</td>\n      <td>0.104312</td>\n    </tr>\n    <tr>\n      <th>1985-11-01</th>\n      <td>0.077465</td>\n      <td>0.057820</td>\n      <td>0.071553</td>\n      <td>0.068448</td>\n      <td>0.119625</td>\n      <td>-0.022618</td>\n      <td>0.073330</td>\n      <td>0.000000</td>\n      <td>0.052717</td>\n      <td>0.073283</td>\n      <td>...</td>\n      <td>0.116766</td>\n      <td>0.081772</td>\n      <td>0.109643</td>\n      <td>-0.018696</td>\n      <td>0.068930</td>\n      <td>0.051464</td>\n      <td>0.038222</td>\n      <td>0.090673</td>\n      <td>0.100322</td>\n      <td>0.111475</td>\n    </tr>\n    <tr>\n      <th>...</th>\n      <td>...</td>\n      <td>...</td>\n      <td>...</td>\n      <td>...</td>\n      <td>...</td>\n      <td>...</td>\n      <td>...</td>\n      <td>...</td>\n      <td>...</td>\n      <td>...</td>\n      <td>...</td>\n      <td>...</td>\n      <td>...</td>\n      <td>...</td>\n      <td>...</td>\n      <td>...</td>\n      <td>...</td>\n      <td>...</td>\n      <td>...</td>\n      <td>...</td>\n      <td>...</td>\n    </tr>\n    <tr>\n      <th>2025-01-01</th>\n      <td>-0.059308</td>\n      <td>0.090822</td>\n      <td>0.067296</td>\n      <td>-0.002716</td>\n      <td>0.023646</td>\n      <td>0.029591</td>\n      <td>0.019662</td>\n      <td>0.057421</td>\n      <td>-0.009653</td>\n      <td>0.151150</td>\n      <td>...</td>\n      <td>0.001884</td>\n      <td>0.164686</td>\n      <td>0.001316</td>\n      <td>0.021215</td>\n      <td>-0.009951</td>\n      <td>0.021829</td>\n      <td>0.073738</td>\n      <td>-0.015118</td>\n      <td>0.096965</td>\n      <td>0.085121</td>\n    </tr>\n    <tr>\n      <th>2025-02-01</th>\n      <td>0.024444</td>\n      <td>0.076333</td>\n      <td>-0.050995</td>\n      <td>-0.010765</td>\n      <td>-0.073232</td>\n      <td>0.061291</td>\n      <td>0.006524</td>\n      <td>-0.038047</td>\n      <td>-0.049620</td>\n      <td>-0.012831</td>\n      <td>...</td>\n      <td>0.065783</td>\n      <td>0.019004</td>\n      <td>-0.068798</td>\n      <td>0.032370</td>\n      <td>0.052287</td>\n      <td>0.052864</td>\n      <td>-0.132939</td>\n      <td>0.107576</td>\n      <td>0.038173</td>\n      <td>0.004574</td>\n    </tr>\n    <tr>\n      <th>2025-03-01</th>\n      <td>-0.083915</td>\n      <td>0.019312</td>\n      <td>-0.112080</td>\n      <td>-0.023641</td>\n      <td>-0.042010</td>\n      <td>0.064248</td>\n      <td>-0.142358</td>\n      <td>-0.078957</td>\n      <td>-0.000032</td>\n      <td>-0.008447</td>\n      <td>...</td>\n      <td>0.013018</td>\n      <td>-0.049799</td>\n      <td>-0.027363</td>\n      <td>-0.224151</td>\n      <td>-0.019869</td>\n      <td>0.022833</td>\n      <td>0.097784</td>\n      <td>0.051108</td>\n      <td>0.044859</td>\n      <td>-0.116225</td>\n    </tr>\n    <tr>\n      <th>2025-04-01</th>\n      <td>-0.044321</td>\n      <td>-0.068512</td>\n      <td>-0.009861</td>\n      <td>0.071768</td>\n      <td>-0.064272</td>\n      <td>-0.206633</td>\n      <td>-0.081775</td>\n      <td>-0.010181</td>\n      <td>-0.005921</td>\n      <td>-0.027893</td>\n      <td>...</td>\n      <td>0.028795</td>\n      <td>-0.055653</td>\n      <td>-0.043536</td>\n      <td>-0.113207</td>\n      <td>-0.047157</td>\n      <td>0.002834</td>\n      <td>-0.237087</td>\n      <td>-0.029078</td>\n      <td>-0.018067</td>\n      <td>0.105080</td>\n    </tr>\n    <tr>\n      <th>2025-05-01</th>\n      <td>-0.055073</td>\n      <td>-0.000664</td>\n      <td>0.102028</td>\n      <td>0.123467</td>\n      <td>0.122877</td>\n      <td>0.016800</td>\n      <td>0.217432</td>\n      <td>0.021407</td>\n      <td>0.079106</td>\n      <td>0.075498</td>\n      <td>...</td>\n      <td>-0.018311</td>\n      <td>0.070634</td>\n      <td>-0.103276</td>\n      <td>0.071661</td>\n      <td>0.050256</td>\n      <td>0.042872</td>\n      <td>-0.309534</td>\n      <td>0.013662</td>\n      <td>0.025204</td>\n      <td>0.017417</td>\n    </tr>\n  </tbody>\n</table>\n<p>479 rows × 24 columns</p>\n</div>"
     },
     "execution_count": 72,
     "metadata": {},
     "output_type": "execute_result"
    }
   ],
   "source": [
    "# Dow Jones tickers\n",
    "dow_tickers = [\n",
    "    'AAPL', 'AMGN', 'AXP', 'BA', 'CAT', 'CRM', 'CSCO', 'CVX', 'DIS', 'GS', 'HD', 'HON', 'IBM', 'INTC', 'JNJ', 'JPM', 'KO', 'MCD', 'MMM', 'MRK', 'MSFT', 'NKE', 'PG', 'TRV', 'UNH', 'V', 'VZ', 'WBA', 'WMT', 'DOW'\n",
    "]\n",
    "\n",
    "# Download adjusted closing prices\n",
    "# data = yf.download(dow_tickers, period='10y', interval='1mo')['Close']\n",
    "\n",
    "# If the data download doesn't work, import the data manually\n",
    "data = pd.read_csv('data.csv', index_col=0)\n",
    "data = data.dropna(axis=1)\n",
    "\n",
    "# Compute daily log returns\n",
    "log_returns = np.log(data / data.shift(1)).dropna()\n",
    "\n",
    "log_returns"
   ],
   "metadata": {
    "collapsed": false,
    "ExecuteTime": {
     "end_time": "2025-06-02T10:37:05.641391Z",
     "start_time": "2025-06-02T10:37:05.583451Z"
    }
   },
   "id": "b33bbf98da923084",
   "execution_count": 72
  },
  {
   "cell_type": "code",
   "outputs": [
    {
     "name": "stdout",
     "output_type": "stream",
     "text": [
      "Optimal Portfolio Stocks and their weights:\n",
      "AAPL    0.279596\n",
      "AMGN    0.546323\n",
      "HD      0.893697\n",
      "PG      0.045482\n",
      "UNH     0.346883\n",
      "dtype: float64\n",
      "\n",
      "Chosen Lasso alpha (lambda): 0.0071874684684684696\n"
     ]
    }
   ],
   "source": [
    "# Dependent variable\n",
    "y = np.ones(log_returns.shape[0])\n",
    "\n",
    "# Finding the Lasso lambda (alpha) that selects exactly 5 stocks\n",
    "alphas = np.linspace(0.000001, 0.01, 1000)\n",
    "selected_alpha = None\n",
    "selected_coefs = None\n",
    "\n",
    "for alpha in alphas:\n",
    "    lasso = Lasso(alpha=alpha, fit_intercept=False, positive=True, max_iter=10000)\n",
    "    lasso.fit(log_returns, y)\n",
    "    if np.sum(lasso.coef_ != 0) == 5:\n",
    "        selected_alpha = alpha\n",
    "        selected_coefs = lasso.coef_\n",
    "        break\n",
    "\n",
    "# Display results\n",
    "optimal_portfolio = pd.Series(selected_coefs, index=log_returns.columns)\n",
    "optimal_portfolio = optimal_portfolio[optimal_portfolio != 0]\n",
    "\n",
    "print(\"Optimal Portfolio Stocks and their weights:\")\n",
    "print(optimal_portfolio)\n",
    "print(f\"\\nChosen Lasso alpha (lambda): {selected_alpha}\")"
   ],
   "metadata": {
    "collapsed": false,
    "ExecuteTime": {
     "end_time": "2025-06-02T10:37:07.900009Z",
     "start_time": "2025-06-02T10:37:06.807677Z"
    }
   },
   "id": "22d10577d17fddc0",
   "execution_count": 73
  },
  {
   "cell_type": "code",
   "outputs": [
    {
     "name": "stdout",
     "output_type": "stream",
     "text": [
      "0: 0.1323857330964561\n",
      "1: 0.25867803703111975\n",
      "2: 0.4231558662102086\n",
      "3: 0.02153521847015985\n",
      "4: 0.16424514519205577\n"
     ]
    }
   ],
   "source": [
    "for i in range(0, len(optimal_portfolio)):\n",
    "    print(f\"{i}: {optimal_portfolio[i]/sum(optimal_portfolio)}\")"
   ],
   "metadata": {
    "collapsed": false,
    "ExecuteTime": {
     "end_time": "2025-06-02T10:37:11.179016Z",
     "start_time": "2025-06-02T10:37:11.171254Z"
    }
   },
   "id": "5594569ee3c96486",
   "execution_count": 74
  },
  {
   "cell_type": "markdown",
   "source": [
    "Calculating alphas"
   ],
   "metadata": {
    "collapsed": false
   },
   "id": "e8812a87ef9e2bcc"
  },
  {
   "cell_type": "code",
   "outputs": [
    {
     "data": {
      "text/plain": "          date      AAPL      AMGN       AXP        BA       CAT       CVX  \\\n0   1985-07-01 -0.125617 -0.098439 -0.064221  0.075304  0.107245 -0.016864   \n1   1985-08-01 -0.056706  0.050428 -0.070204 -0.002594 -0.020583  0.023530   \n2   1985-09-01  0.048801  0.048012  0.006042 -0.053357 -0.017514 -0.000458   \n3   1985-10-01  0.167654  0.271932  0.100196  0.010959  0.003527  0.055844   \n4   1985-11-01  0.077465  0.057820  0.071553  0.068448  0.119625 -0.022618   \n..         ...       ...       ...       ...       ...       ...       ...   \n474 2025-01-01 -0.059308  0.090822  0.067296 -0.002716  0.023646  0.029591   \n475 2025-02-01  0.024444  0.076333 -0.050995 -0.010765 -0.073232  0.061291   \n476 2025-03-01 -0.083915  0.019312 -0.112080 -0.023641 -0.042010  0.064248   \n477 2025-04-01 -0.044321 -0.068512 -0.009861  0.071768 -0.064272 -0.206633   \n478 2025-05-01 -0.055073 -0.000664  0.102028  0.123467  0.122877  0.016800   \n\n          DIS        HD       HON  ...       MCD       MMM       MRK  \\\n0   -0.074621 -0.009478  0.045853  ... -0.040975  0.025318  0.009661   \n1    0.025497 -0.100084 -0.072601  ... -0.013974 -0.044736  0.011014   \n2   -0.063513 -0.065241  0.066982  ...  0.003861  0.004891 -0.045870   \n3    0.095872 -0.011297 -0.011332  ...  0.028492  0.022765  0.073448   \n4    0.073330  0.000000  0.052717  ...  0.116766  0.081772  0.109643   \n..        ...       ...       ...  ...       ...       ...       ...   \n474  0.019662  0.057421 -0.009653  ...  0.001884  0.164686  0.001316   \n475  0.006524 -0.038047 -0.049620  ...  0.065783  0.019004 -0.068798   \n476 -0.142358 -0.078957 -0.000032  ...  0.013018 -0.049799 -0.027363   \n477 -0.081775 -0.010181 -0.005921  ...  0.028795 -0.055653 -0.043536   \n478  0.217432  0.021407  0.079106  ... -0.018311  0.070634 -0.103276   \n\n          NKE        PG       TRV       UNH        VZ       WBA       WMT  \n0    0.045458  0.019846 -0.012142  0.032787 -0.043719 -0.114959 -0.097209  \n1    0.105365  0.015652  0.001744 -0.101782  0.029229  0.039806  0.044453  \n2    0.067655 -0.019759 -0.057363 -0.303680 -0.057885 -0.098353 -0.079066  \n3    0.009305  0.117044  0.079759  0.216668  0.074154  0.072950  0.104312  \n4   -0.018696  0.068930  0.051464  0.038222  0.090673  0.100322  0.111475  \n..        ...       ...       ...       ...       ...       ...       ...  \n474  0.021215 -0.009951  0.021829  0.073738 -0.015118  0.096965  0.085121  \n475  0.032370  0.052287  0.052864 -0.132939  0.107576  0.038173  0.004574  \n476 -0.224151 -0.019869  0.022833  0.097784  0.051108  0.044859 -0.116225  \n477 -0.113207 -0.047157  0.002834 -0.237087 -0.029078 -0.018067  0.105080  \n478  0.071661  0.050256  0.042872 -0.309534  0.013662  0.025204  0.017417  \n\n[479 rows x 25 columns]",
      "text/html": "<div>\n<style scoped>\n    .dataframe tbody tr th:only-of-type {\n        vertical-align: middle;\n    }\n\n    .dataframe tbody tr th {\n        vertical-align: top;\n    }\n\n    .dataframe thead th {\n        text-align: right;\n    }\n</style>\n<table border=\"1\" class=\"dataframe\">\n  <thead>\n    <tr style=\"text-align: right;\">\n      <th></th>\n      <th>date</th>\n      <th>AAPL</th>\n      <th>AMGN</th>\n      <th>AXP</th>\n      <th>BA</th>\n      <th>CAT</th>\n      <th>CVX</th>\n      <th>DIS</th>\n      <th>HD</th>\n      <th>HON</th>\n      <th>...</th>\n      <th>MCD</th>\n      <th>MMM</th>\n      <th>MRK</th>\n      <th>NKE</th>\n      <th>PG</th>\n      <th>TRV</th>\n      <th>UNH</th>\n      <th>VZ</th>\n      <th>WBA</th>\n      <th>WMT</th>\n    </tr>\n  </thead>\n  <tbody>\n    <tr>\n      <th>0</th>\n      <td>1985-07-01</td>\n      <td>-0.125617</td>\n      <td>-0.098439</td>\n      <td>-0.064221</td>\n      <td>0.075304</td>\n      <td>0.107245</td>\n      <td>-0.016864</td>\n      <td>-0.074621</td>\n      <td>-0.009478</td>\n      <td>0.045853</td>\n      <td>...</td>\n      <td>-0.040975</td>\n      <td>0.025318</td>\n      <td>0.009661</td>\n      <td>0.045458</td>\n      <td>0.019846</td>\n      <td>-0.012142</td>\n      <td>0.032787</td>\n      <td>-0.043719</td>\n      <td>-0.114959</td>\n      <td>-0.097209</td>\n    </tr>\n    <tr>\n      <th>1</th>\n      <td>1985-08-01</td>\n      <td>-0.056706</td>\n      <td>0.050428</td>\n      <td>-0.070204</td>\n      <td>-0.002594</td>\n      <td>-0.020583</td>\n      <td>0.023530</td>\n      <td>0.025497</td>\n      <td>-0.100084</td>\n      <td>-0.072601</td>\n      <td>...</td>\n      <td>-0.013974</td>\n      <td>-0.044736</td>\n      <td>0.011014</td>\n      <td>0.105365</td>\n      <td>0.015652</td>\n      <td>0.001744</td>\n      <td>-0.101782</td>\n      <td>0.029229</td>\n      <td>0.039806</td>\n      <td>0.044453</td>\n    </tr>\n    <tr>\n      <th>2</th>\n      <td>1985-09-01</td>\n      <td>0.048801</td>\n      <td>0.048012</td>\n      <td>0.006042</td>\n      <td>-0.053357</td>\n      <td>-0.017514</td>\n      <td>-0.000458</td>\n      <td>-0.063513</td>\n      <td>-0.065241</td>\n      <td>0.066982</td>\n      <td>...</td>\n      <td>0.003861</td>\n      <td>0.004891</td>\n      <td>-0.045870</td>\n      <td>0.067655</td>\n      <td>-0.019759</td>\n      <td>-0.057363</td>\n      <td>-0.303680</td>\n      <td>-0.057885</td>\n      <td>-0.098353</td>\n      <td>-0.079066</td>\n    </tr>\n    <tr>\n      <th>3</th>\n      <td>1985-10-01</td>\n      <td>0.167654</td>\n      <td>0.271932</td>\n      <td>0.100196</td>\n      <td>0.010959</td>\n      <td>0.003527</td>\n      <td>0.055844</td>\n      <td>0.095872</td>\n      <td>-0.011297</td>\n      <td>-0.011332</td>\n      <td>...</td>\n      <td>0.028492</td>\n      <td>0.022765</td>\n      <td>0.073448</td>\n      <td>0.009305</td>\n      <td>0.117044</td>\n      <td>0.079759</td>\n      <td>0.216668</td>\n      <td>0.074154</td>\n      <td>0.072950</td>\n      <td>0.104312</td>\n    </tr>\n    <tr>\n      <th>4</th>\n      <td>1985-11-01</td>\n      <td>0.077465</td>\n      <td>0.057820</td>\n      <td>0.071553</td>\n      <td>0.068448</td>\n      <td>0.119625</td>\n      <td>-0.022618</td>\n      <td>0.073330</td>\n      <td>0.000000</td>\n      <td>0.052717</td>\n      <td>...</td>\n      <td>0.116766</td>\n      <td>0.081772</td>\n      <td>0.109643</td>\n      <td>-0.018696</td>\n      <td>0.068930</td>\n      <td>0.051464</td>\n      <td>0.038222</td>\n      <td>0.090673</td>\n      <td>0.100322</td>\n      <td>0.111475</td>\n    </tr>\n    <tr>\n      <th>...</th>\n      <td>...</td>\n      <td>...</td>\n      <td>...</td>\n      <td>...</td>\n      <td>...</td>\n      <td>...</td>\n      <td>...</td>\n      <td>...</td>\n      <td>...</td>\n      <td>...</td>\n      <td>...</td>\n      <td>...</td>\n      <td>...</td>\n      <td>...</td>\n      <td>...</td>\n      <td>...</td>\n      <td>...</td>\n      <td>...</td>\n      <td>...</td>\n      <td>...</td>\n      <td>...</td>\n    </tr>\n    <tr>\n      <th>474</th>\n      <td>2025-01-01</td>\n      <td>-0.059308</td>\n      <td>0.090822</td>\n      <td>0.067296</td>\n      <td>-0.002716</td>\n      <td>0.023646</td>\n      <td>0.029591</td>\n      <td>0.019662</td>\n      <td>0.057421</td>\n      <td>-0.009653</td>\n      <td>...</td>\n      <td>0.001884</td>\n      <td>0.164686</td>\n      <td>0.001316</td>\n      <td>0.021215</td>\n      <td>-0.009951</td>\n      <td>0.021829</td>\n      <td>0.073738</td>\n      <td>-0.015118</td>\n      <td>0.096965</td>\n      <td>0.085121</td>\n    </tr>\n    <tr>\n      <th>475</th>\n      <td>2025-02-01</td>\n      <td>0.024444</td>\n      <td>0.076333</td>\n      <td>-0.050995</td>\n      <td>-0.010765</td>\n      <td>-0.073232</td>\n      <td>0.061291</td>\n      <td>0.006524</td>\n      <td>-0.038047</td>\n      <td>-0.049620</td>\n      <td>...</td>\n      <td>0.065783</td>\n      <td>0.019004</td>\n      <td>-0.068798</td>\n      <td>0.032370</td>\n      <td>0.052287</td>\n      <td>0.052864</td>\n      <td>-0.132939</td>\n      <td>0.107576</td>\n      <td>0.038173</td>\n      <td>0.004574</td>\n    </tr>\n    <tr>\n      <th>476</th>\n      <td>2025-03-01</td>\n      <td>-0.083915</td>\n      <td>0.019312</td>\n      <td>-0.112080</td>\n      <td>-0.023641</td>\n      <td>-0.042010</td>\n      <td>0.064248</td>\n      <td>-0.142358</td>\n      <td>-0.078957</td>\n      <td>-0.000032</td>\n      <td>...</td>\n      <td>0.013018</td>\n      <td>-0.049799</td>\n      <td>-0.027363</td>\n      <td>-0.224151</td>\n      <td>-0.019869</td>\n      <td>0.022833</td>\n      <td>0.097784</td>\n      <td>0.051108</td>\n      <td>0.044859</td>\n      <td>-0.116225</td>\n    </tr>\n    <tr>\n      <th>477</th>\n      <td>2025-04-01</td>\n      <td>-0.044321</td>\n      <td>-0.068512</td>\n      <td>-0.009861</td>\n      <td>0.071768</td>\n      <td>-0.064272</td>\n      <td>-0.206633</td>\n      <td>-0.081775</td>\n      <td>-0.010181</td>\n      <td>-0.005921</td>\n      <td>...</td>\n      <td>0.028795</td>\n      <td>-0.055653</td>\n      <td>-0.043536</td>\n      <td>-0.113207</td>\n      <td>-0.047157</td>\n      <td>0.002834</td>\n      <td>-0.237087</td>\n      <td>-0.029078</td>\n      <td>-0.018067</td>\n      <td>0.105080</td>\n    </tr>\n    <tr>\n      <th>478</th>\n      <td>2025-05-01</td>\n      <td>-0.055073</td>\n      <td>-0.000664</td>\n      <td>0.102028</td>\n      <td>0.123467</td>\n      <td>0.122877</td>\n      <td>0.016800</td>\n      <td>0.217432</td>\n      <td>0.021407</td>\n      <td>0.079106</td>\n      <td>...</td>\n      <td>-0.018311</td>\n      <td>0.070634</td>\n      <td>-0.103276</td>\n      <td>0.071661</td>\n      <td>0.050256</td>\n      <td>0.042872</td>\n      <td>-0.309534</td>\n      <td>0.013662</td>\n      <td>0.025204</td>\n      <td>0.017417</td>\n    </tr>\n  </tbody>\n</table>\n<p>479 rows × 25 columns</p>\n</div>"
     },
     "execution_count": 75,
     "metadata": {},
     "output_type": "execute_result"
    }
   ],
   "source": [
    "log_returns.reset_index(inplace=True)\n",
    "log_returns.rename(columns={\"Date\": \"date\"}, inplace=True)\n",
    "log_returns[\"date\"] = pd.to_datetime(log_returns[\"date\"])\n",
    "log_returns"
   ],
   "metadata": {
    "collapsed": false,
    "ExecuteTime": {
     "end_time": "2025-06-02T10:37:34.328115Z",
     "start_time": "2025-06-02T10:37:34.318711Z"
    }
   },
   "id": "6cb97062b846a214",
   "execution_count": 75
  },
  {
   "cell_type": "code",
   "outputs": [
    {
     "name": "stdout",
     "output_type": "stream",
     "text": [
      "        date  Mkt-RF     SMB     HML     RMW     CMA      RF\n",
      "0 1963-07-01 -0.0039 -0.0048 -0.0081  0.0064 -0.0115  0.0027\n",
      "1 1963-08-01  0.0508 -0.0080  0.0170  0.0040 -0.0038  0.0025\n",
      "2 1963-09-01 -0.0157 -0.0043  0.0000 -0.0078  0.0015  0.0027\n",
      "3 1963-10-01  0.0254 -0.0134 -0.0004  0.0279 -0.0225  0.0029\n",
      "4 1963-11-01 -0.0086 -0.0085  0.0173 -0.0043  0.0227  0.0027\n"
     ]
    }
   ],
   "source": [
    "# URL of the ZIP file\n",
    "url = \"https://mba.tuck.dartmouth.edu/pages/faculty/ken.french/ftp/F-F_Research_Data_5_Factors_2x3_CSV.zip\"\n",
    "\n",
    "# Download the ZIP file\n",
    "response = requests.get(url)\n",
    "z = zipfile.ZipFile(io.BytesIO(response.content))\n",
    "\n",
    "# Extract the CSV file (assuming it is the first file in the ZIP)\n",
    "csv_filename = z.namelist()[0]\n",
    "with z.open(csv_filename) as file:\n",
    "    df_rf = pd.read_csv(file, skiprows=3, index_col=0)\n",
    "    \n",
    "# split the df before annual data begins\n",
    "df_rf = df_rf.loc[:\"202503\"]\n",
    "\n",
    "df_rf.index = pd.to_datetime(df_rf.index, format=\"%Y%m\")\n",
    "df_rf = df_rf.apply(pd.to_numeric)\n",
    "df_rf = df_rf/100\n",
    "df_rf.reset_index(inplace=True)\n",
    "df_rf.rename(columns={'index': 'date'}, inplace=True)\n",
    "\n",
    "# Display the first few rows\n",
    "print(df_rf.head())"
   ],
   "metadata": {
    "collapsed": false,
    "ExecuteTime": {
     "end_time": "2025-06-02T10:37:38.140978Z",
     "start_time": "2025-06-02T10:37:35.416774Z"
    }
   },
   "id": "611e71c76b374d00",
   "execution_count": 76
  },
  {
   "cell_type": "code",
   "outputs": [
    {
     "name": "stdout",
     "output_type": "stream",
     "text": [
      "        date      AAPL      AMGN       AXP        BA       CAT       CVX  \\\n",
      "0 1985-07-01 -0.125617 -0.098439 -0.064221  0.075304  0.107245 -0.016864   \n",
      "1 1985-08-01 -0.056706  0.050428 -0.070204 -0.002594 -0.020583  0.023530   \n",
      "2 1985-09-01  0.048801  0.048012  0.006042 -0.053357 -0.017514 -0.000458   \n",
      "3 1985-10-01  0.167654  0.271932  0.100196  0.010959  0.003527  0.055844   \n",
      "4 1985-11-01  0.077465  0.057820  0.071553  0.068448  0.119625 -0.022618   \n",
      "\n",
      "        DIS        HD       HON  ...       UNH        VZ       WBA       WMT  \\\n",
      "0 -0.074621 -0.009478  0.045853  ...  0.032787 -0.043719 -0.114959 -0.097209   \n",
      "1  0.025497 -0.100084 -0.072601  ... -0.101782  0.029229  0.039806  0.044453   \n",
      "2 -0.063513 -0.065241  0.066982  ... -0.303680 -0.057885 -0.098353 -0.079066   \n",
      "3  0.095872 -0.011297 -0.011332  ...  0.216668  0.074154  0.072950  0.104312   \n",
      "4  0.073330  0.000000  0.052717  ...  0.038222  0.090673  0.100322  0.111475   \n",
      "\n",
      "   Mkt-RF     SMB     HML     RMW     CMA      RF  \n",
      "0 -0.0072  0.0285 -0.0162 -0.0036 -0.0037  0.0062  \n",
      "1 -0.0101 -0.0030  0.0234 -0.0016  0.0193  0.0055  \n",
      "2 -0.0450 -0.0184  0.0121  0.0111  0.0158  0.0060  \n",
      "3  0.0400 -0.0147  0.0077  0.0088 -0.0106  0.0065  \n",
      "4  0.0646 -0.0005 -0.0291  0.0032 -0.0235  0.0061  \n",
      "\n",
      "[5 rows x 31 columns]\n"
     ]
    }
   ],
   "source": [
    "df=pd.merge(log_returns,df_rf, how='inner', on='date')\n",
    "print(df.head())"
   ],
   "metadata": {
    "collapsed": false,
    "ExecuteTime": {
     "end_time": "2025-06-02T10:37:38.366834Z",
     "start_time": "2025-06-02T10:37:38.348860Z"
    }
   },
   "id": "813b484605bb6973",
   "execution_count": 77
  },
  {
   "cell_type": "code",
   "outputs": [
    {
     "data": {
      "text/plain": "         AAPL      AMGN       AXP        BA       CAT       CVX       DIS  \\\n0   -0.131817 -0.104639 -0.070421  0.069104  0.101045 -0.023064 -0.080821   \n1   -0.062206  0.044928 -0.075704 -0.008094 -0.026083  0.018030  0.019997   \n2    0.042801  0.042012  0.000042 -0.059357 -0.023514 -0.006458 -0.069513   \n3    0.161154  0.265432  0.093696  0.004459 -0.002973  0.049344  0.089372   \n4    0.071365  0.051720  0.065453  0.062348  0.113525 -0.028718  0.067230   \n..        ...       ...       ...       ...       ...       ...       ...   \n472  0.045315 -0.127833  0.119154  0.036235  0.076089  0.080427  0.195754   \n473  0.051088 -0.077582 -0.029937  0.126190 -0.116583 -0.105085 -0.057205   \n474 -0.063008  0.087122  0.063596 -0.006416  0.019946  0.025891  0.015962   \n475  0.021144  0.073033 -0.054295 -0.014065 -0.076532  0.057991  0.003224   \n476 -0.087315  0.015912 -0.115480 -0.027041 -0.045410  0.060848 -0.145758   \n\n           HD       HON       IBM  ...       MCD       MMM       MRK  \\\n0   -0.015678  0.039653  0.053592  ... -0.047175  0.019118  0.003461   \n1   -0.105584 -0.078101 -0.042326  ... -0.019474 -0.050236  0.005514   \n2   -0.071241  0.060982 -0.019410  ... -0.002139 -0.001109 -0.051870   \n3   -0.017797 -0.017832  0.040800  ...  0.021992  0.016265  0.066948   \n4   -0.006100  0.046617  0.067183  ...  0.110666  0.075672  0.103543   \n..        ...       ...       ...  ...       ...       ...       ...   \n472  0.082044  0.120417  0.091389  ...  0.009263  0.034631 -0.010668   \n473 -0.096654 -0.029479 -0.029750  ... -0.024592 -0.032212 -0.025180   \n474  0.053721 -0.013353  0.147450  ... -0.001816  0.160986 -0.002384   \n475 -0.041347 -0.052920 -0.016131  ...  0.062483  0.015704 -0.072098   \n476 -0.082357 -0.003432 -0.011847  ...  0.009618 -0.053199 -0.030763   \n\n          NKE        PG       TRV       UNH        VZ       WBA       WMT  \n0    0.039258  0.013646 -0.018342  0.026587 -0.049919 -0.121159 -0.103409  \n1    0.099865  0.010152 -0.003756 -0.107282  0.023729  0.034306  0.038953  \n2    0.061655 -0.025759 -0.063363 -0.309680 -0.063885 -0.104353 -0.085066  \n3    0.002805  0.110544  0.073259  0.210168  0.067654  0.066450  0.097812  \n4   -0.024796  0.062830  0.045364  0.032122  0.084573  0.094222  0.105375  \n..        ...       ...       ...       ...       ...       ...       ...  \n472  0.017040  0.083664  0.074559  0.073846  0.062617 -0.051628  0.117099  \n473 -0.043850 -0.070659 -0.103006 -0.191227 -0.106958  0.060015 -0.027218  \n474  0.017515 -0.013651  0.018129  0.070038 -0.018818  0.093265  0.081421  \n475  0.029070  0.048987  0.049564 -0.136239  0.104276  0.034873  0.001274  \n476 -0.227551 -0.023269  0.019433  0.094384  0.047708  0.041459 -0.119625  \n\n[477 rows x 24 columns]",
      "text/html": "<div>\n<style scoped>\n    .dataframe tbody tr th:only-of-type {\n        vertical-align: middle;\n    }\n\n    .dataframe tbody tr th {\n        vertical-align: top;\n    }\n\n    .dataframe thead th {\n        text-align: right;\n    }\n</style>\n<table border=\"1\" class=\"dataframe\">\n  <thead>\n    <tr style=\"text-align: right;\">\n      <th></th>\n      <th>AAPL</th>\n      <th>AMGN</th>\n      <th>AXP</th>\n      <th>BA</th>\n      <th>CAT</th>\n      <th>CVX</th>\n      <th>DIS</th>\n      <th>HD</th>\n      <th>HON</th>\n      <th>IBM</th>\n      <th>...</th>\n      <th>MCD</th>\n      <th>MMM</th>\n      <th>MRK</th>\n      <th>NKE</th>\n      <th>PG</th>\n      <th>TRV</th>\n      <th>UNH</th>\n      <th>VZ</th>\n      <th>WBA</th>\n      <th>WMT</th>\n    </tr>\n  </thead>\n  <tbody>\n    <tr>\n      <th>0</th>\n      <td>-0.131817</td>\n      <td>-0.104639</td>\n      <td>-0.070421</td>\n      <td>0.069104</td>\n      <td>0.101045</td>\n      <td>-0.023064</td>\n      <td>-0.080821</td>\n      <td>-0.015678</td>\n      <td>0.039653</td>\n      <td>0.053592</td>\n      <td>...</td>\n      <td>-0.047175</td>\n      <td>0.019118</td>\n      <td>0.003461</td>\n      <td>0.039258</td>\n      <td>0.013646</td>\n      <td>-0.018342</td>\n      <td>0.026587</td>\n      <td>-0.049919</td>\n      <td>-0.121159</td>\n      <td>-0.103409</td>\n    </tr>\n    <tr>\n      <th>1</th>\n      <td>-0.062206</td>\n      <td>0.044928</td>\n      <td>-0.075704</td>\n      <td>-0.008094</td>\n      <td>-0.026083</td>\n      <td>0.018030</td>\n      <td>0.019997</td>\n      <td>-0.105584</td>\n      <td>-0.078101</td>\n      <td>-0.042326</td>\n      <td>...</td>\n      <td>-0.019474</td>\n      <td>-0.050236</td>\n      <td>0.005514</td>\n      <td>0.099865</td>\n      <td>0.010152</td>\n      <td>-0.003756</td>\n      <td>-0.107282</td>\n      <td>0.023729</td>\n      <td>0.034306</td>\n      <td>0.038953</td>\n    </tr>\n    <tr>\n      <th>2</th>\n      <td>0.042801</td>\n      <td>0.042012</td>\n      <td>0.000042</td>\n      <td>-0.059357</td>\n      <td>-0.023514</td>\n      <td>-0.006458</td>\n      <td>-0.069513</td>\n      <td>-0.071241</td>\n      <td>0.060982</td>\n      <td>-0.019410</td>\n      <td>...</td>\n      <td>-0.002139</td>\n      <td>-0.001109</td>\n      <td>-0.051870</td>\n      <td>0.061655</td>\n      <td>-0.025759</td>\n      <td>-0.063363</td>\n      <td>-0.309680</td>\n      <td>-0.063885</td>\n      <td>-0.104353</td>\n      <td>-0.085066</td>\n    </tr>\n    <tr>\n      <th>3</th>\n      <td>0.161154</td>\n      <td>0.265432</td>\n      <td>0.093696</td>\n      <td>0.004459</td>\n      <td>-0.002973</td>\n      <td>0.049344</td>\n      <td>0.089372</td>\n      <td>-0.017797</td>\n      <td>-0.017832</td>\n      <td>0.040800</td>\n      <td>...</td>\n      <td>0.021992</td>\n      <td>0.016265</td>\n      <td>0.066948</td>\n      <td>0.002805</td>\n      <td>0.110544</td>\n      <td>0.073259</td>\n      <td>0.210168</td>\n      <td>0.067654</td>\n      <td>0.066450</td>\n      <td>0.097812</td>\n    </tr>\n    <tr>\n      <th>4</th>\n      <td>0.071365</td>\n      <td>0.051720</td>\n      <td>0.065453</td>\n      <td>0.062348</td>\n      <td>0.113525</td>\n      <td>-0.028718</td>\n      <td>0.067230</td>\n      <td>-0.006100</td>\n      <td>0.046617</td>\n      <td>0.067183</td>\n      <td>...</td>\n      <td>0.110666</td>\n      <td>0.075672</td>\n      <td>0.103543</td>\n      <td>-0.024796</td>\n      <td>0.062830</td>\n      <td>0.045364</td>\n      <td>0.032122</td>\n      <td>0.084573</td>\n      <td>0.094222</td>\n      <td>0.105375</td>\n    </tr>\n    <tr>\n      <th>...</th>\n      <td>...</td>\n      <td>...</td>\n      <td>...</td>\n      <td>...</td>\n      <td>...</td>\n      <td>...</td>\n      <td>...</td>\n      <td>...</td>\n      <td>...</td>\n      <td>...</td>\n      <td>...</td>\n      <td>...</td>\n      <td>...</td>\n      <td>...</td>\n      <td>...</td>\n      <td>...</td>\n      <td>...</td>\n      <td>...</td>\n      <td>...</td>\n      <td>...</td>\n      <td>...</td>\n    </tr>\n    <tr>\n      <th>472</th>\n      <td>0.045315</td>\n      <td>-0.127833</td>\n      <td>0.119154</td>\n      <td>0.036235</td>\n      <td>0.076089</td>\n      <td>0.080427</td>\n      <td>0.195754</td>\n      <td>0.082044</td>\n      <td>0.120417</td>\n      <td>0.091389</td>\n      <td>...</td>\n      <td>0.009263</td>\n      <td>0.034631</td>\n      <td>-0.010668</td>\n      <td>0.017040</td>\n      <td>0.083664</td>\n      <td>0.074559</td>\n      <td>0.073846</td>\n      <td>0.062617</td>\n      <td>-0.051628</td>\n      <td>0.117099</td>\n    </tr>\n    <tr>\n      <th>473</th>\n      <td>0.051088</td>\n      <td>-0.077582</td>\n      <td>-0.029937</td>\n      <td>0.126190</td>\n      <td>-0.116583</td>\n      <td>-0.105085</td>\n      <td>-0.057205</td>\n      <td>-0.096654</td>\n      <td>-0.029479</td>\n      <td>-0.029750</td>\n      <td>...</td>\n      <td>-0.024592</td>\n      <td>-0.032212</td>\n      <td>-0.025180</td>\n      <td>-0.043850</td>\n      <td>-0.070659</td>\n      <td>-0.103006</td>\n      <td>-0.191227</td>\n      <td>-0.106958</td>\n      <td>0.060015</td>\n      <td>-0.027218</td>\n    </tr>\n    <tr>\n      <th>474</th>\n      <td>-0.063008</td>\n      <td>0.087122</td>\n      <td>0.063596</td>\n      <td>-0.006416</td>\n      <td>0.019946</td>\n      <td>0.025891</td>\n      <td>0.015962</td>\n      <td>0.053721</td>\n      <td>-0.013353</td>\n      <td>0.147450</td>\n      <td>...</td>\n      <td>-0.001816</td>\n      <td>0.160986</td>\n      <td>-0.002384</td>\n      <td>0.017515</td>\n      <td>-0.013651</td>\n      <td>0.018129</td>\n      <td>0.070038</td>\n      <td>-0.018818</td>\n      <td>0.093265</td>\n      <td>0.081421</td>\n    </tr>\n    <tr>\n      <th>475</th>\n      <td>0.021144</td>\n      <td>0.073033</td>\n      <td>-0.054295</td>\n      <td>-0.014065</td>\n      <td>-0.076532</td>\n      <td>0.057991</td>\n      <td>0.003224</td>\n      <td>-0.041347</td>\n      <td>-0.052920</td>\n      <td>-0.016131</td>\n      <td>...</td>\n      <td>0.062483</td>\n      <td>0.015704</td>\n      <td>-0.072098</td>\n      <td>0.029070</td>\n      <td>0.048987</td>\n      <td>0.049564</td>\n      <td>-0.136239</td>\n      <td>0.104276</td>\n      <td>0.034873</td>\n      <td>0.001274</td>\n    </tr>\n    <tr>\n      <th>476</th>\n      <td>-0.087315</td>\n      <td>0.015912</td>\n      <td>-0.115480</td>\n      <td>-0.027041</td>\n      <td>-0.045410</td>\n      <td>0.060848</td>\n      <td>-0.145758</td>\n      <td>-0.082357</td>\n      <td>-0.003432</td>\n      <td>-0.011847</td>\n      <td>...</td>\n      <td>0.009618</td>\n      <td>-0.053199</td>\n      <td>-0.030763</td>\n      <td>-0.227551</td>\n      <td>-0.023269</td>\n      <td>0.019433</td>\n      <td>0.094384</td>\n      <td>0.047708</td>\n      <td>0.041459</td>\n      <td>-0.119625</td>\n    </tr>\n  </tbody>\n</table>\n<p>477 rows × 24 columns</p>\n</div>"
     },
     "execution_count": 78,
     "metadata": {},
     "output_type": "execute_result"
    }
   ],
   "source": [
    "excluded = ['date', 'Mkt-RF', 'SMB', 'HML', 'RMW', 'CMA', 'RF']\n",
    "ticker_columns = [col for col in df.columns if col not in excluded]\n",
    "\n",
    "stocks_excess = df[ticker_columns].subtract(df.RF, axis='index')\n",
    "stocks_excess"
   ],
   "metadata": {
    "collapsed": false,
    "ExecuteTime": {
     "end_time": "2025-06-02T10:37:39.278919Z",
     "start_time": "2025-06-02T10:37:39.272870Z"
    }
   },
   "id": "ae3d2fbcf2993282",
   "execution_count": 78
  },
  {
   "cell_type": "code",
   "outputs": [],
   "source": [
    "import statsmodels.api as sm\n",
    "\n",
    "alphas = {}\n",
    "\n",
    "for stock in stocks_excess.columns:\n",
    "    y = stocks_excess[stock]\n",
    "    X = df[[\"Mkt-RF\", \"SMB\", \"HML\"]]\n",
    "    X = sm.add_constant(X)\n",
    "\n",
    "    model = sm.OLS(y, X).fit()\n",
    "    alphas[stock] = model.params[\"const\"]  # This is the FF3 alpha\n",
    "    \n",
    "alpha_df = pd.DataFrame.from_dict(alphas, orient='index', columns=['FF3_alpha'])"
   ],
   "metadata": {
    "collapsed": false,
    "ExecuteTime": {
     "end_time": "2025-06-02T10:37:41.766260Z",
     "start_time": "2025-06-02T10:37:41.708024Z"
    }
   },
   "id": "a3b8b03d5af9a8ab",
   "execution_count": 79
  },
  {
   "cell_type": "code",
   "outputs": [
    {
     "data": {
      "text/plain": "      FF3_alpha\nAAPL   0.007111\nAMGN   0.009246\nAXP   -0.004443\nBA    -0.004273\nCAT   -0.001889\nCVX   -0.000285\nDIS   -0.002737\nHD     0.005424\nHON   -0.003405\nIBM   -0.002497\nINTC  -0.002438\nJNJ    0.002965\nJPM   -0.004980\nKO     0.002501\nMCD    0.002222\nMMM   -0.000609\nMRK    0.002056\nNKE    0.002856\nPG     0.003733\nTRV   -0.001816\nUNH    0.006720\nVZ    -0.000474\nWBA   -0.003699\nWMT    0.003990",
      "text/html": "<div>\n<style scoped>\n    .dataframe tbody tr th:only-of-type {\n        vertical-align: middle;\n    }\n\n    .dataframe tbody tr th {\n        vertical-align: top;\n    }\n\n    .dataframe thead th {\n        text-align: right;\n    }\n</style>\n<table border=\"1\" class=\"dataframe\">\n  <thead>\n    <tr style=\"text-align: right;\">\n      <th></th>\n      <th>FF3_alpha</th>\n    </tr>\n  </thead>\n  <tbody>\n    <tr>\n      <th>AAPL</th>\n      <td>0.007111</td>\n    </tr>\n    <tr>\n      <th>AMGN</th>\n      <td>0.009246</td>\n    </tr>\n    <tr>\n      <th>AXP</th>\n      <td>-0.004443</td>\n    </tr>\n    <tr>\n      <th>BA</th>\n      <td>-0.004273</td>\n    </tr>\n    <tr>\n      <th>CAT</th>\n      <td>-0.001889</td>\n    </tr>\n    <tr>\n      <th>CVX</th>\n      <td>-0.000285</td>\n    </tr>\n    <tr>\n      <th>DIS</th>\n      <td>-0.002737</td>\n    </tr>\n    <tr>\n      <th>HD</th>\n      <td>0.005424</td>\n    </tr>\n    <tr>\n      <th>HON</th>\n      <td>-0.003405</td>\n    </tr>\n    <tr>\n      <th>IBM</th>\n      <td>-0.002497</td>\n    </tr>\n    <tr>\n      <th>INTC</th>\n      <td>-0.002438</td>\n    </tr>\n    <tr>\n      <th>JNJ</th>\n      <td>0.002965</td>\n    </tr>\n    <tr>\n      <th>JPM</th>\n      <td>-0.004980</td>\n    </tr>\n    <tr>\n      <th>KO</th>\n      <td>0.002501</td>\n    </tr>\n    <tr>\n      <th>MCD</th>\n      <td>0.002222</td>\n    </tr>\n    <tr>\n      <th>MMM</th>\n      <td>-0.000609</td>\n    </tr>\n    <tr>\n      <th>MRK</th>\n      <td>0.002056</td>\n    </tr>\n    <tr>\n      <th>NKE</th>\n      <td>0.002856</td>\n    </tr>\n    <tr>\n      <th>PG</th>\n      <td>0.003733</td>\n    </tr>\n    <tr>\n      <th>TRV</th>\n      <td>-0.001816</td>\n    </tr>\n    <tr>\n      <th>UNH</th>\n      <td>0.006720</td>\n    </tr>\n    <tr>\n      <th>VZ</th>\n      <td>-0.000474</td>\n    </tr>\n    <tr>\n      <th>WBA</th>\n      <td>-0.003699</td>\n    </tr>\n    <tr>\n      <th>WMT</th>\n      <td>0.003990</td>\n    </tr>\n  </tbody>\n</table>\n</div>"
     },
     "execution_count": 80,
     "metadata": {},
     "output_type": "execute_result"
    }
   ],
   "source": [
    "alpha_df"
   ],
   "metadata": {
    "collapsed": false,
    "ExecuteTime": {
     "end_time": "2025-06-02T10:37:42.344410Z",
     "start_time": "2025-06-02T10:37:42.336070Z"
    }
   },
   "id": "1a556dfd6327c277",
   "execution_count": 80
  },
  {
   "cell_type": "code",
   "outputs": [],
   "source": [],
   "metadata": {
    "collapsed": false
   },
   "id": "41b3c7453a420785"
  }
 ],
 "metadata": {
  "kernelspec": {
   "display_name": "Python 3",
   "language": "python",
   "name": "python3"
  },
  "language_info": {
   "codemirror_mode": {
    "name": "ipython",
    "version": 2
   },
   "file_extension": ".py",
   "mimetype": "text/x-python",
   "name": "python",
   "nbconvert_exporter": "python",
   "pygments_lexer": "ipython2",
   "version": "2.7.6"
  }
 },
 "nbformat": 4,
 "nbformat_minor": 5
}
