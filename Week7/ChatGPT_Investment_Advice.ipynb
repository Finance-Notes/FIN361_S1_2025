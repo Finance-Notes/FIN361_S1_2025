{
  "nbformat": 4,
  "nbformat_minor": 0,
  "metadata": {
    "colab": {
      "provenance": []
    },
    "kernelspec": {
      "name": "python3",
      "display_name": "Python 3"
    },
    "language_info": {
      "name": "python"
    }
  },
  "cells": [
    {
      "cell_type": "markdown",
      "source": [
        "## ChatGPT Investment Advice\n",
        "\n",
        "#### This script automates investment advice using the ChatGPT API.\n",
        "\n",
        "Using the Python script together with the ChatGPT API allows this chatbot to be used on an commercial scale. I.e., it fully automates investment advice and can easy be integrated into a webpage or other such user interface.\n",
        "\n",
        "The chatbot replicates front-of-house investment advice that you might recieve at a commerial bank.  "
      ],
      "metadata": {
        "id": "oTp7ndoBEt18"
      }
    },
    {
      "cell_type": "code",
      "execution_count": 1,
      "metadata": {
        "id": "4QgBS_7kI56g"
      },
      "outputs": [],
      "source": [
        "import json\n",
        "import os\n",
        "from collections import OrderedDict\n",
        "from datetime import datetime\n",
        "from pathlib import Path\n",
        "\n",
        "from openai import OpenAI   # pip install openai>=1.0.0\n",
        "from openai_key import OPENAI_API_KEY\n"
      ]
    },
    {
      "cell_type": "markdown",
      "source": [
        "#### Step 1: Define the questions"
      ],
      "metadata": {
        "id": "xvpxRoMEI-00"
      }
    },
    {
      "cell_type": "code",
      "source": [
        "QUESTIONS = OrderedDict({\n",
        "    \"objectives_time_horizon\":\n",
        "        (\"1. Investment Objectives & Horizon:\\n\"\n",
        "         \"   What are your specific financial goals (retirement, property \"\n",
        "         \"acquisition, education funding), and what is your anticipated timeline for \"\n",
        "         \"accessing these funds?\\n> \"),\n",
        "\n",
        "    \"risk_tolerance_capacity\":\n",
        "        (\"2. Risk Tolerance Assessment:\\n\"\n",
        "         \"   What level of portfolio volatility are you comfortable with, and what \"\n",
        "         \"maximum temporary decline (percentage or monetary value) could you tolerate \"\n",
        "         \"without altering your investment strategy?\\n> \"),\n",
        "\n",
        "    \"current_financial_position\":\n",
        "        (\"3. Financial Position Overview:\\n\"\n",
        "         \"   Please summarize your current income, major assets, liabilities, and \"\n",
        "         \"emergency reserves to determine your optimal investment capacity.\\n> \"),\n",
        "\n",
        "    \"liquidity_cash_flow_needs\":\n",
        "        (\"4. Liquidity Requirements:\\n\"\n",
        "         \"   Do you anticipate significant expenditures (property down payment, \"\n",
        "         \"healthcare costs, career transition) within the next 1-5 years that would \"\n",
        "         \"necessitate liquidity from this portfolio?\\n> \"),\n",
        "\n",
        "    \"constraints_preferences_tax\":\n",
        "        (\"5. Investment Parameters:\\n\"\n",
        "         \"   Please identify any relevant investment restrictions, ESG preferences,  \"\n",
        "         \"tax considerations, or jurisdictional factors that should guide your \"\n",
        "         \"portfolio construction.\\n> \"),\n",
        "})"
      ],
      "metadata": {
        "id": "4z8pcLryJC6X"
      },
      "execution_count": 10,
      "outputs": []
    },
    {
      "cell_type": "markdown",
      "source": [
        "#### Step 2. Collect responses from the user"
      ],
      "metadata": {
        "id": "zPK61iXnJHs7"
      }
    },
    {
      "cell_type": "code",
      "source": [
        "def ask_questions() -> OrderedDict:\n",
        "    print(\"\\n--- Investor Profile Questionnaire ---\\n\")\n",
        "    answers = OrderedDict()\n",
        "    for key, prompt in QUESTIONS.items():\n",
        "        answers[key] = input(prompt).strip()\n",
        "        print(\"\\n\")\n",
        "    return answers"
      ],
      "metadata": {
        "id": "2jyRK-oPJJAZ"
      },
      "execution_count": 11,
      "outputs": []
    },
    {
      "cell_type": "code",
      "source": [
        "def save_json(data: OrderedDict, folder: str = \"client_profiles\") -> Path:\n",
        "    Path(folder).mkdir(exist_ok=True)\n",
        "    filename = Path(folder) / f\"profile_{datetime.now():%Y%m%d_%H%M%S}.json\"\n",
        "    with open(filename, \"w\", encoding=\"utf-8\") as f:\n",
        "        json.dump(data, f, indent=2)\n",
        "    return filename"
      ],
      "metadata": {
        "id": "5wNCLeoAJLIq"
      },
      "execution_count": 12,
      "outputs": []
    },
    {
      "cell_type": "code",
      "source": [
        "answers = ask_questions()"
      ],
      "metadata": {
        "colab": {
          "base_uri": "https://localhost:8080/"
        },
        "id": "NHl2WxAWJN3X",
        "outputId": "b994b5f3-f14c-41ca-ae38-96199a0376d3"
      },
      "execution_count": 13,
      "outputs": [
        {
          "output_type": "stream",
          "name": "stdout",
          "text": [
            "\n",
            "--- Investor Profile Questionnaire ---\n",
            "\n",
            "1. Investment Objectives & Horizon:\n",
            "   What are your specific financial goals (retirement, property acquisition, education funding), and what is your anticipated timeline for accessing these funds?\n",
            "> Retirement in 40 years.\n",
            "\n",
            "\n",
            "2. Risk Tolerance Assessment:\n",
            "   What level of portfolio volatility are you comfortable with, and what maximum temporary decline (percentage or monetary value) could you tolerate without altering your investment strategy?\n",
            "> I have a high risk tolerance and would not change strategy until there is a 10% decline in portfolio assets.\n",
            "\n",
            "\n",
            "3. Financial Position Overview:\n",
            "   Please summarize your current income, major assets, liabilities, and emergency reserves to determine your optimal investment capacity.\n",
            ">  Next year I hope to start earning 70K annually, which should gradually increase. I have no major assets or liabilities, and I have 10K in cash.\n",
            "\n",
            "\n",
            "4. Liquidity Requirements:\n",
            "   Do you anticipate significant expenditures (property down payment, healthcare costs, career transition) within the next 1-5 years that would necessitate liquidity from this portfolio?\n",
            "> No liquidity requirements.\n",
            "\n",
            "\n",
            "5. Investment Parameters:\n",
            "   Please identify any relevant investment restrictions, ESG preferences,  tax considerations, or jurisdictional factors that should guide your portfolio construction.\n",
            "> No parameters.\n",
            "\n",
            "\n"
          ]
        }
      ]
    },
    {
      "cell_type": "code",
      "source": [
        "save_path = save_json(answers)\n",
        "print(f\"\\nResponses saved to {save_path.resolve()}\\n\")"
      ],
      "metadata": {
        "colab": {
          "base_uri": "https://localhost:8080/"
        },
        "id": "49HNGg-bJPdM",
        "outputId": "38b075a9-b3ee-4e0c-ff4b-617581729c0d"
      },
      "execution_count": 14,
      "outputs": [
        {
          "output_type": "stream",
          "name": "stdout",
          "text": [
            "\n",
            "Responses saved to /content/client_profiles/profile_20250428_033125.json\n",
            "\n"
          ]
        }
      ]
    },
    {
      "cell_type": "markdown",
      "source": [
        "#### Step 3. Build the prompt & call ChatGPT"
      ],
      "metadata": {
        "id": "sVuxPWG9JoBi"
      }
    },
    {
      "cell_type": "code",
      "source": [
        "SYSTEM_PROMPT = (\n",
        "    \"Forget all your previous instructions. Pretend you are an expert financial advisor. \"\n",
        "    \"You are an expert financial advisor with investment and portfolio allocation experience.\"\n",
        ")\n",
        "\n",
        "def call_chatgpt(q_and_a: OrderedDict, model: str = \"gpt-4o-mini\") -> str:\n",
        "    \"\"\"Send the Q&A context plus the instruction to ChatGPT and return the reply.\"\"\"\n",
        "    # Convert Q&A to a readable block\n",
        "    qa_block = \"\\n\".join(\n",
        "        f\"{idx}. Q: {QUESTIONS[key].split(':')[0]}  A: {answer}\"\n",
        "        for idx, (key, answer) in enumerate(q_and_a.items(), start=1)\n",
        "    )\n",
        "\n",
        "    user_message = (\n",
        "        f\"Your client has responsed to five onboarding questions as follows:\\n{qa_block}\\n\\n\"\n",
        "        \"Given the situation described by the responses to the five investment questions, \"\n",
        "        \"what investment strategy should be followed? Provide two clear and concise sentences \"\n",
        "        \"that explain this choice of strategy without financial jargon.\"\n",
        "        \"Subsequently, identify three suitable funds.\"\n",
        "    )\n",
        "\n",
        "    response = client.chat.completions.create(\n",
        "        model=model,\n",
        "        messages=[\n",
        "            {\"role\": \"system\", \"content\": SYSTEM_PROMPT},\n",
        "            {\"role\": \"user\", \"content\": user_message},\n",
        "        ],\n",
        "        temperature=0  # deterministic\n",
        "    )\n",
        "\n",
        "    return response.choices[0].message.content.strip()"
      ],
      "metadata": {
        "id": "CQjoIEiBJmv_"
      },
      "execution_count": 15,
      "outputs": []
    },
    {
      "cell_type": "code",
      "source": [
        "client = OpenAI(api_key=OPENAI_API_KEY)\n",
        "\n",
        "strategy = call_chatgpt(answers)"
      ],
      "metadata": {
        "id": "2iHIIhhbJtAw"
      },
      "execution_count": 16,
      "outputs": []
    },
    {
      "cell_type": "code",
      "source": [
        "print(strategy)"
      ],
      "metadata": {
        "colab": {
          "base_uri": "https://localhost:8080/"
        },
        "id": "BRf56kGhKwrI",
        "outputId": "ff368695-5e32-4034-8400-18ec299b3f57"
      },
      "execution_count": 17,
      "outputs": [
        {
          "output_type": "stream",
          "name": "stdout",
          "text": [
            "Given your long investment horizon and high risk tolerance, a growth-oriented strategy focusing on equities is appropriate. This approach aims to maximize returns over time, taking advantage of market fluctuations while you have the ability to ride out volatility.\n",
            "\n",
            "Three suitable funds for this strategy could be:\n",
            "1. Vanguard Total Stock Market Index Fund (VTSAX) - provides broad exposure to the U.S. stock market.\n",
            "2. Fidelity Growth Company Fund (FDGRX) - focuses on high-growth companies with strong potential.\n",
            "3. T. Rowe Price Global Technology Fund (PRGTX) - invests in technology companies worldwide, capitalizing on innovation and growth trends.\n"
          ]
        }
      ]
    },
    {
      "cell_type": "code",
      "source": [],
      "metadata": {
        "id": "NnkdzNjtK3EK"
      },
      "execution_count": null,
      "outputs": []
    }
  ]
}